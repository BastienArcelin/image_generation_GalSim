{
 "cells": [
  {
   "cell_type": "code",
   "execution_count": 4,
   "metadata": {},
   "outputs": [],
   "source": [
    "import numpy as np\n",
    "import matplotlib.pyplot as plt\n",
    "import sys\n",
    "import os "
   ]
  },
  {
   "cell_type": "code",
   "execution_count": 5,
   "metadata": {},
   "outputs": [
    {
     "name": "stderr",
     "output_type": "stream",
     "text": [
      "/sps/lsst/users/barcelin/miniconda/envs/python_cpu4/lib/python3.6/site-packages/tensorflow/python/framework/dtypes.py:526: FutureWarning: Passing (type, 1) or '1type' as a synonym of type is deprecated; in a future version of numpy, it will be understood as (type, (1,)) / '(1,)type'.\n",
      "  _np_qint8 = np.dtype([(\"qint8\", np.int8, 1)])\n",
      "/sps/lsst/users/barcelin/miniconda/envs/python_cpu4/lib/python3.6/site-packages/tensorflow/python/framework/dtypes.py:527: FutureWarning: Passing (type, 1) or '1type' as a synonym of type is deprecated; in a future version of numpy, it will be understood as (type, (1,)) / '(1,)type'.\n",
      "  _np_quint8 = np.dtype([(\"quint8\", np.uint8, 1)])\n",
      "/sps/lsst/users/barcelin/miniconda/envs/python_cpu4/lib/python3.6/site-packages/tensorflow/python/framework/dtypes.py:528: FutureWarning: Passing (type, 1) or '1type' as a synonym of type is deprecated; in a future version of numpy, it will be understood as (type, (1,)) / '(1,)type'.\n",
      "  _np_qint16 = np.dtype([(\"qint16\", np.int16, 1)])\n",
      "/sps/lsst/users/barcelin/miniconda/envs/python_cpu4/lib/python3.6/site-packages/tensorflow/python/framework/dtypes.py:529: FutureWarning: Passing (type, 1) or '1type' as a synonym of type is deprecated; in a future version of numpy, it will be understood as (type, (1,)) / '(1,)type'.\n",
      "  _np_quint16 = np.dtype([(\"quint16\", np.uint16, 1)])\n",
      "/sps/lsst/users/barcelin/miniconda/envs/python_cpu4/lib/python3.6/site-packages/tensorflow/python/framework/dtypes.py:530: FutureWarning: Passing (type, 1) or '1type' as a synonym of type is deprecated; in a future version of numpy, it will be understood as (type, (1,)) / '(1,)type'.\n",
      "  _np_qint32 = np.dtype([(\"qint32\", np.int32, 1)])\n",
      "/sps/lsst/users/barcelin/miniconda/envs/python_cpu4/lib/python3.6/site-packages/tensorflow/python/framework/dtypes.py:535: FutureWarning: Passing (type, 1) or '1type' as a synonym of type is deprecated; in a future version of numpy, it will be understood as (type, (1,)) / '(1,)type'.\n",
      "  np_resource = np.dtype([(\"resource\", np.ubyte, 1)])\n"
     ]
    },
    {
     "name": "stdout",
     "output_type": "stream",
     "text": [
      "\n",
      "WARNING: The TensorFlow contrib module will not be included in TensorFlow 2.0.\n",
      "For more information, please see:\n",
      "  * https://github.com/tensorflow/community/blob/master/rfcs/20180907-contrib-sunset.md\n",
      "  * https://github.com/tensorflow/addons\n",
      "If you depend on functionality not listed there, please file an issue.\n",
      "\n"
     ]
    }
   ],
   "source": [
    "sys.path.insert(0,'../scripts/Images_generation/')\n",
    "from images_generator import image_generator_sim, image_generator_real\n",
    "from images_utils import get_scale_radius, get_data, shift_gal, peak_detection, draw_images\n",
    "import cosmos_params\n",
    "\n",
    "sys.path.insert(0,'../scripts/tools_for_VAE/')\n",
    "from tools_for_VAE import utils, vae_functions, generator, model, plot, layers"
   ]
  },
  {
   "cell_type": "markdown",
   "metadata": {},
   "source": [
    "# Image generation using parametric models (i.e. simulations)"
   ]
  },
  {
   "cell_type": "markdown",
   "metadata": {},
   "source": [
    "## Generate image of isolated galaxies with brightest centered"
   ]
  },
  {
   "cell_type": "code",
   "execution_count": 3,
   "metadata": {},
   "outputs": [],
   "source": [
    "case = 'centered' # centered/ miscentered_0.1/ miscentered_peak/ \n",
    "gal_type = 'simulation' #simulation or real/\n",
    "training_or_test = 'test' # training test validation\n",
    "isolated_or_blended = 'isolated' #isolated blended\n",
    "method_shift = 'noshift' # noshift uniform uniform+betaprime\n",
    "do_peak_detection = False\n",
    "N_files = 1 # Nb of files to generate\n",
    "N_per_file = 1 # Number of galaxies per file\n",
    "nmax_blend = 1 # Number of galaxies on an image if integer, or interval for sampling if tuple\n",
    "assert training_or_test in ['training', 'validation', 'test']\n",
    "\n",
    "# Fixed parameters:\n",
    "max_try = 100 # maximum number of try before leaving the function (to avoir infinite loop)\n",
    "mag_cut = 27.5 # magnitude cut\n",
    "max_stamp_size = 64 # Size of patch to generate\n",
    "center_brightest = True # Center the brightest galaxy (i.e. the galaxy with the highest magnitude)\n",
    "# If center_brightest = False : choose with method to use to shift the brightest\n",
    "method_shift_brightest = 'uniform'\n",
    "# And then you need to choose the method to shift the other galaxies as a function of the position of the brightest on the image\n",
    "method_shift_others = 'uniform'\n",
    "max_dx = 3.2 #in arcseconds, limit to use for uniform shifting: the center of the shifted galaxy will be shifted from the center or from the brightest galaxy from a random number between [-max_dx ; max_dx] arcsecond\n",
    "max_r = 2. #in arcseconds, limit to use for annulus shifting: galaxy is shifted in an annulus around the center of the image or of the brightest galaxy which has for minimum radius fwhm_lsst/2 and for maximum radius max_r\n"
   ]
  },
  {
   "cell_type": "code",
   "execution_count": 5,
   "metadata": {},
   "outputs": [],
   "source": [
    "# Index to use\n",
    "used_idx = np.arange(5000)\n",
    "# Catalog path\n",
    "cosmos_cat_dir = '/sps/lsst/users/barcelin/COSMOS_25.2_training_sample'"
   ]
  },
  {
   "cell_type": "code",
   "execution_count": 6,
   "metadata": {},
   "outputs": [],
   "source": [
    "res = image_generator_sim(cosmos_cat_dir, training_or_test, isolated_or_blended, used_idx, nmax_blend, max_try, mag_cut, method_shift_brightest, method_shift_others, max_dx, max_r, do_peak_detection, center_brightest, max_stamp_size)"
   ]
  },
  {
   "cell_type": "code",
   "execution_count": 7,
   "metadata": {},
   "outputs": [
    {
     "data": {
      "text/plain": [
       "{'redshift_0': 0.6460999846458435,\n",
       " 'moment_sigma_0': 2.4461119174957275,\n",
       " 'e1_0': 0.1710718423128128,\n",
       " 'e2_0': -0.2852787375450134,\n",
       " 'mag_0': 26.555559552892444,\n",
       " 'nb_blended_gal': 1,\n",
       " 'mag': 26.555559552892444,\n",
       " 'mag_ir': -1.079536121205277,\n",
       " 'closest_mag': nan,\n",
       " 'closest_mag_ir': nan,\n",
       " 'closest_x': nan,\n",
       " 'closest_y': nan,\n",
       " 'idx_closest_to_peak': 0,\n",
       " 'n_peak_detected': 1,\n",
       " 'SNR': 40.53332645598804,\n",
       " 'SNR_peak': 0.0384243893148058}"
      ]
     },
     "execution_count": 7,
     "metadata": {},
     "output_type": "execute_result"
    }
   ],
   "source": [
    "res[2]"
   ]
  },
  {
   "cell_type": "code",
   "execution_count": 8,
   "metadata": {},
   "outputs": [
    {
     "data": {
      "text/plain": [
       "<matplotlib.image.AxesImage at 0x7f2acb9151d0>"
      ]
     },
     "execution_count": 8,
     "metadata": {},
     "output_type": "execute_result"
    },
    {
     "data": {
      "image/png": "[encoded data removed]",
      "text/plain": [
       "<Figure size 720x360 with 2 Axes>"
      ]
     },
     "metadata": {
      "needs_background": "light"
     },
     "output_type": "display_data"
    }
   ],
   "source": [
    "fig, ax = plt.subplots(1,2, figsize =(10,5))\n",
    "ax[0].imshow(res[0][6])\n",
    "ax[1].imshow(res[1][6])"
   ]
  },
  {
   "cell_type": "markdown",
   "metadata": {},
   "source": [
    "## Generate image of blended galaxies without brightest centered"
   ]
  },
  {
   "cell_type": "code",
   "execution_count": 3,
   "metadata": {},
   "outputs": [],
   "source": [
    "case = 'centered' # centered/ miscentered_0.1/ miscentered_peak/ \n",
    "gal_type = 'simulation' #simulation or real/\n",
    "training_or_test = 'test' # training test validation\n",
    "isolated_or_blended = 'blended' #isolated blended\n",
    "method_shift = 'uniform' # noshift uniform uniform+betaprime\n",
    "do_peak_detection = False\n",
    "N_files = 1 # Nb of files to generate\n",
    "N_per_file = 1 # Number of galaxies per file\n",
    "nmax_blend = 6 # Number of galaxies on an image if integer, or interval for sampling if tuple\n",
    "assert training_or_test in ['training', 'validation', 'test']\n",
    "\n",
    "# Fixed parameters:\n",
    "max_try = 100 # maximum number of try before leaving the function (to avoir infinite loop)\n",
    "mag_cut = 27.5 # magnitude cut\n",
    "max_stamp_size = 64 # Size of patch to generate\n",
    "center_brightest = True # Center the brightest galaxy (i.e. the galaxy with the highest magnitude)\n",
    "# If center_brightest = False : choose with method to use to shift the brightest\n",
    "method_shift_brightest = 'uniform'\n",
    "# And then you need to choose the method to shift the other galaxies as a function of the position of the brightest on the image\n",
    "method_shift_others = 'uniform'\n",
    "max_dx = 3.2 #in arcseconds, limit to use for uniform shifting: the center of the shifted galaxy will be shifted from the center or from the brightest galaxy from a random number between [-max_dx ; max_dx] arcsecond\n",
    "max_r = 2. #in arcseconds, limit to use for annulus shifting: galaxy is shifted in an annulus around the center of the image or of the brightest galaxy which has for minimum radius fwhm_lsst/2 and for maximum radius max_r\n"
   ]
  },
  {
   "cell_type": "code",
   "execution_count": 4,
   "metadata": {},
   "outputs": [],
   "source": [
    "# Index to use\n",
    "used_idx = np.arange(5000)\n",
    "# Catalog path\n",
    "cosmos_cat_dir = '/sps/lsst/users/barcelin/COSMOS_25.2_training_sample'"
   ]
  },
  {
   "cell_type": "code",
   "execution_count": 11,
   "metadata": {},
   "outputs": [],
   "source": [
    "res = image_generator_sim(cosmos_cat_dir, training_or_test, isolated_or_blended, used_idx, nmax_blend, max_try, mag_cut, method_shift_brightest, method_shift_others, max_dx, max_r, do_peak_detection, center_brightest)"
   ]
  },
  {
   "cell_type": "code",
   "execution_count": 12,
   "metadata": {},
   "outputs": [
    {
     "data": {
      "text/plain": [
       "{'redshift_0': 2.3208999633789062,\n",
       " 'moment_sigma_0': 1.5786387920379639,\n",
       " 'e1_0': 0.14665314555168152,\n",
       " 'e2_0': 0.4472491443157196,\n",
       " 'mag_0': 27.14861889266381,\n",
       " 'redshift_1': 0.6586999893188477,\n",
       " 'moment_sigma_1': 2.278747320175171,\n",
       " 'e1_1': -0.5404533743858337,\n",
       " 'e2_1': 0.38646844029426575,\n",
       " 'mag_1': 26.80650240563193,\n",
       " 'redshift_2': 0.3653999865055084,\n",
       " 'moment_sigma_2': 1.9419138431549072,\n",
       " 'e1_2': -0.25844046473503113,\n",
       " 'e2_2': 0.07414741069078445,\n",
       " 'mag_2': 26.8118505697036,\n",
       " 'redshift_3': 0.4982999861240387,\n",
       " 'moment_sigma_3': 2.8294317722320557,\n",
       " 'e1_3': -0.024330204352736473,\n",
       " 'e2_3': -0.07777753472328186,\n",
       " 'mag_3': 26.04703847544355,\n",
       " 'redshift_4': 0.8414999842643738,\n",
       " 'moment_sigma_4': 3.0559022426605225,\n",
       " 'e1_4': 0.30434590578079224,\n",
       " 'e2_4': 0.19397851824760437,\n",
       " 'mag_4': 25.06410236063855,\n",
       " 'redshift_5': 0.8973000049591064,\n",
       " 'moment_sigma_5': 2.2066662311553955,\n",
       " 'e1_5': -0.4542604386806488,\n",
       " 'e2_5': -0.3645181357860565,\n",
       " 'mag_5': 26.598899611539036,\n",
       " 'nb_blended_gal': 6,\n",
       " 'mag': 25.06410236063855,\n",
       " 'mag_ir': -2.7856125837530694,\n",
       " 'closest_mag': 27.14861889266381,\n",
       " 'closest_mag_ir': -1.0092319059014483,\n",
       " 'closest_x': -0.10779886454748056,\n",
       " 'closest_y': 1.5547031465976007,\n",
       " 'idx_closest_to_peak': 0,\n",
       " 'n_peak_detected': 1,\n",
       " 'SNR': 138.4774004410387,\n",
       " 'SNR_peak': 0.10126304677279122}"
      ]
     },
     "execution_count": 12,
     "metadata": {},
     "output_type": "execute_result"
    }
   ],
   "source": [
    "res[2]"
   ]
  },
  {
   "cell_type": "code",
   "execution_count": 13,
   "metadata": {},
   "outputs": [
    {
     "data": {
      "text/plain": [
       "<matplotlib.image.AxesImage at 0x7f2ab985bf98>"
      ]
     },
     "execution_count": 13,
     "metadata": {},
     "output_type": "execute_result"
    },
    {
     "data": {
      "image/png": "[encoded data removed]",
      "text/plain": [
       "<Figure size 720x360 with 2 Axes>"
      ]
     },
     "metadata": {
      "needs_background": "light"
     },
     "output_type": "display_data"
    }
   ],
   "source": [
    "fig, ax = plt.subplots(1,2, figsize =(10,5))\n",
    "ax[0].imshow(res[0][6])\n",
    "ax[1].imshow(res[1][6])"
   ]
  },
  {
   "cell_type": "markdown",
   "metadata": {},
   "source": [
    "Now if I want an image with a variable number of galaxies, say between 2 and 5, I need to set the 'nmax_blend' parameter to (2,5)."
   ]
  },
  {
   "cell_type": "code",
   "execution_count": 5,
   "metadata": {},
   "outputs": [],
   "source": [
    "nmax_blend = (2,5) # Give an interval to sample the number of galaxies to add in this interval"
   ]
  },
  {
   "cell_type": "code",
   "execution_count": 6,
   "metadata": {},
   "outputs": [
    {
     "name": "stdout",
     "output_type": "stream",
     "text": [
      "5 3\n"
     ]
    }
   ],
   "source": [
    "res = image_generator_sim(cosmos_cat_dir, training_or_test, isolated_or_blended, used_idx, nmax_blend, max_try, mag_cut, method_shift_brightest, method_shift_others, max_dx, max_r, do_peak_detection, center_brightest)"
   ]
  },
  {
   "cell_type": "code",
   "execution_count": 7,
   "metadata": {},
   "outputs": [
    {
     "data": {
      "text/plain": [
       "{'redshift_0': 1.1828999519348145,\n",
       " 'moment_sigma_0': 2.1691665649414062,\n",
       " 'e1_0': 0.05365296080708504,\n",
       " 'e2_0': -0.2410225123167038,\n",
       " 'mag_0': 26.77561553840325,\n",
       " 'redshift_1': 2.9433999061584473,\n",
       " 'moment_sigma_1': 1.5933035612106323,\n",
       " 'e1_1': 0.4711447060108185,\n",
       " 'e2_1': -0.03263998031616211,\n",
       " 'mag_1': 27.416882298347446,\n",
       " 'redshift_2': 0.36660000681877136,\n",
       " 'moment_sigma_2': 1.9869105815887451,\n",
       " 'e1_2': 0.09117596596479416,\n",
       " 'e2_2': -0.45192593336105347,\n",
       " 'mag_2': 25.068420054556515,\n",
       " 'redshift_3': 10.0,\n",
       " 'moment_sigma_3': 10.0,\n",
       " 'e1_3': 10.0,\n",
       " 'e2_3': 10.0,\n",
       " 'mag_3': 10.0,\n",
       " 'redshift_4': 10.0,\n",
       " 'moment_sigma_4': 10.0,\n",
       " 'e1_4': 10.0,\n",
       " 'e2_4': 10.0,\n",
       " 'mag_4': 10.0,\n",
       " 'nb_blended_gal': 3,\n",
       " 'mag': 25.068420054556515,\n",
       " 'mag_ir': -1.8126175960383293,\n",
       " 'closest_mag': 27.416882298347446,\n",
       " 'closest_mag_ir': -0.6026237308749516,\n",
       " 'closest_x': -1.2140307124311904,\n",
       " 'closest_y': -1.3737260584962478,\n",
       " 'idx_closest_to_peak': 0,\n",
       " 'n_peak_detected': 1,\n",
       " 'SNR': 193.4517346056661,\n",
       " 'SNR_peak': 0.22714709067627553}"
      ]
     },
     "execution_count": 7,
     "metadata": {},
     "output_type": "execute_result"
    }
   ],
   "source": [
    "res[2]"
   ]
  },
  {
   "cell_type": "code",
   "execution_count": 8,
   "metadata": {},
   "outputs": [
    {
     "data": {
      "text/plain": [
       "<matplotlib.image.AxesImage at 0x7eff1ab67438>"
      ]
     },
     "execution_count": 8,
     "metadata": {},
     "output_type": "execute_result"
    },
    {
     "data": {
      "image/png": "[encoded data removed]",
      "text/plain": [
       "<Figure size 720x360 with 2 Axes>"
      ]
     },
     "metadata": {
      "needs_background": "light"
     },
     "output_type": "display_data"
    }
   ],
   "source": [
    "fig, ax = plt.subplots(1,2, figsize =(10,5))\n",
    "ax[0].imshow(res[0][6])\n",
    "ax[1].imshow(res[1][6])"
   ]
  },
  {
   "cell_type": "markdown",
   "metadata": {},
   "source": [
    "# Image generation using real galaxy images (brightest not centered)"
   ]
  },
  {
   "cell_type": "markdown",
   "metadata": {},
   "source": [
    "A small correlated noise is observed on these 'denoised' real images. \n",
    "A procedure exists in GalSim to whiten the noise but is still not functionning yet. An issue is opened about this: https://github.com/GalSim-developers/GalSim/issues/1071\n",
    "\n",
    "\n",
    "Important: If the parameter 'center_brightest' is set to 'False', the brightest galaxy is not centered any more but also the first parameters at rank 0 in the data do not refer to the brightest galaxy any more. It is the case when 'center_brightest' is set to 'True'."
   ]
  },
  {
   "cell_type": "markdown",
   "metadata": {},
   "source": [
    "## Generate image of isolated galaxies"
   ]
  },
  {
   "cell_type": "code",
   "execution_count": 14,
   "metadata": {},
   "outputs": [],
   "source": [
    "case = 'centered' # centered/ miscentered_0.1/ miscentered_peak/ \n",
    "gal_type = 'real' #simulation or real/\n",
    "training_or_test = 'test' # training test validation\n",
    "isolated_or_blended = 'isolated' #isolated blended\n",
    "method_shift = 'noshift' # noshift uniform uniform+betaprime\n",
    "do_peak_detection = False\n",
    "N_files = 1 # Nb of files to generate\n",
    "N_per_file = 1 # Number of galaxies per file\n",
    "nmax_blend = 1 # Number of galaxies on an image if integer, or interval for sampling if tuple\n",
    "assert training_or_test in ['training', 'validation', 'test']\n",
    "\n",
    "# Fixed parameters:\n",
    "max_try = 100 # maximum number of try before leaving the function (to avoir infinite loop)\n",
    "mag_cut = 26. # magnitude cut\n",
    "max_stamp_size = 64 # Size of patch to generate\n",
    "center_brightest = False # Center the brightest galaxy (i.e. the galaxy with the highest magnitude)\n",
    "# If center_brightest = False : choose with method to use to shift the brightest\n",
    "method_shift_brightest = 'uniform'\n",
    "# And then you need to choose the method to shift the other galaxies as a function of the position of the brightest on the image\n",
    "method_shift_others = 'uniform'\n",
    "max_dx = 3.2 #in arcseconds, limit to use for uniform shifting: the center of the shifted galaxy will be shifted from the center or from the brightest galaxy from a random number between [-max_dx ; max_dx] arcsecond\n",
    "max_r = 2. #in arcseconds, limit to use for annulus shifting: galaxy is shifted in an annulus around the center of the image or of the brightest galaxy which has for minimum radius fwhm_lsst/2 and for maximum radius max_r"
   ]
  },
  {
   "cell_type": "code",
   "execution_count": 15,
   "metadata": {},
   "outputs": [],
   "source": [
    "# Index to use\n",
    "used_idx = np.arange(5000)\n",
    "# Catalog path\n",
    "cosmos_cat_dir = '/sps/lsst/users/barcelin/COSMOS_25.2_training_sample'"
   ]
  },
  {
   "cell_type": "code",
   "execution_count": 16,
   "metadata": {},
   "outputs": [],
   "source": [
    "res = image_generator_real(cosmos_cat_dir, training_or_test, isolated_or_blended, used_idx, nmax_blend, max_try, mag_cut, method_shift_brightest, method_shift_others, max_dx, max_r, do_peak_detection, center_brightest, max_stamp_size)"
   ]
  },
  {
   "cell_type": "code",
   "execution_count": 17,
   "metadata": {},
   "outputs": [
    {
     "data": {
      "text/plain": [
       "{'mag_0': 25.164876848509234,\n",
       " 'redshift_0': 0.0,\n",
       " 'moment_sigma_0': 3.115971803665161,\n",
       " 'e1_0': -0.10639065504074097,\n",
       " 'e2_0': -0.32629287242889404,\n",
       " 'nb_blended_gal': 1,\n",
       " 'mag': 25.164876848509234,\n",
       " 'mag_ir': -2.7664863919176046,\n",
       " 'closest_mag': nan,\n",
       " 'closest_mag_ir': nan,\n",
       " 'closest_x': nan,\n",
       " 'closest_y': nan,\n",
       " 'idx_closest_to_peak': 0,\n",
       " 'n_peak_detected': 1,\n",
       " 'SNR': 130.72322807053948,\n",
       " 'SNR_peak': 0.09558793656938232}"
      ]
     },
     "execution_count": 17,
     "metadata": {},
     "output_type": "execute_result"
    }
   ],
   "source": [
    "res[2]"
   ]
  },
  {
   "cell_type": "code",
   "execution_count": 18,
   "metadata": {},
   "outputs": [
    {
     "data": {
      "text/plain": [
       "<matplotlib.image.AxesImage at 0x7fd316913198>"
      ]
     },
     "execution_count": 18,
     "metadata": {},
     "output_type": "execute_result"
    },
    {
     "data": {
      "image/png": "[encoded data removed]",
      "text/plain": [
       "<Figure size 720x360 with 2 Axes>"
      ]
     },
     "metadata": {
      "needs_background": "light"
     },
     "output_type": "display_data"
    }
   ],
   "source": [
    "fig, ax = plt.subplots(1,2, figsize =(10,5))\n",
    "ax[0].imshow(res[0][6])\n",
    "ax[1].imshow(res[1][6])"
   ]
  },
  {
   "cell_type": "markdown",
   "metadata": {},
   "source": [
    "## Generate image of blended galaxies"
   ]
  },
  {
   "cell_type": "code",
   "execution_count": 19,
   "metadata": {},
   "outputs": [],
   "source": [
    "case = 'centered' # centered/ miscentered_0.1/ miscentered_peak/ \n",
    "gal_type = 'real' #simulation or real/\n",
    "training_or_test = 'test' # training test validation\n",
    "isolated_or_blended = 'blended' #isolated blended\n",
    "method_shift = 'uniform' # noshift uniform uniform+betaprime\n",
    "do_peak_detection = False\n",
    "N_files = 1 # Nb of files to generate\n",
    "N_per_file = 1 # Number of galaxies per file\n",
    "nmax_blend = 6 # Number of galaxies on an image if integer, or interval for sampling if tuple\n",
    "assert training_or_test in ['training', 'validation', 'test']\n",
    "\n",
    "# Fixed parameters:\n",
    "max_try = 100 # maximum number of try before leaving the function (to avoir infinite loop)\n",
    "mag_cut = 26 # magnitude cut\n",
    "max_stamp_size = 64 # Size of patch to generate\n",
    "center_brightest = True # Center the brightest galaxy (i.e. the galaxy with the highest magnitude)\n",
    "# If center_brightest = False : choose with method to use to shift the brightest\n",
    "method_shift_brightest = 'uniform'\n",
    "# And then you need to choose the method to shift the other galaxies as a function of the position of the brightest on the image\n",
    "method_shift_others = 'annulus'\n",
    "max_dx = 3.2 #in arcseconds, limit to use for uniform shifting: the center of the shifted galaxy will be shifted from the center or from the brightest galaxy from a random number between [-max_dx ; max_dx] arcsecond\n",
    "max_r = 4. #in arcseconds, limit to use for annulus shifting: galaxy is shifted in an annulus around the center of the image or of the brightest galaxy which has for minimum radius fwhm_lsst/2 and for maximum radius max_r\n"
   ]
  },
  {
   "cell_type": "code",
   "execution_count": 20,
   "metadata": {},
   "outputs": [],
   "source": [
    "# Index to use\n",
    "used_idx = np.arange(5000)\n",
    "# Catalog path\n",
    "cosmos_cat_dir = '/sps/lsst/users/barcelin/COSMOS_25.2_training_sample'"
   ]
  },
  {
   "cell_type": "code",
   "execution_count": 21,
   "metadata": {},
   "outputs": [],
   "source": [
    "res = image_generator_real(cosmos_cat_dir, training_or_test, isolated_or_blended, used_idx, nmax_blend, max_try, mag_cut, method_shift_brightest, method_shift_others, max_dx, max_r, do_peak_detection, center_brightest, max_stamp_size)"
   ]
  },
  {
   "cell_type": "code",
   "execution_count": 22,
   "metadata": {},
   "outputs": [
    {
     "data": {
      "text/plain": [
       "{'mag_0': 23.38298981142764,\n",
       " 'redshift_0': 0.0,\n",
       " 'moment_sigma_0': 2.5032968521118164,\n",
       " 'e1_0': 0.02283249981701374,\n",
       " 'e2_0': 1.005467176437378,\n",
       " 'mag_1': 24.903116917653414,\n",
       " 'redshift_1': 0.0,\n",
       " 'moment_sigma_1': 2.391683578491211,\n",
       " 'e1_1': -0.10895619541406631,\n",
       " 'e2_1': -0.02515043318271637,\n",
       " 'mag_2': 25.81611916209125,\n",
       " 'redshift_2': 0.0,\n",
       " 'moment_sigma_2': 1.7295399904251099,\n",
       " 'e1_2': 0.027236998081207275,\n",
       " 'e2_2': -0.2474757730960846,\n",
       " 'mag_3': 25.203642384909546,\n",
       " 'redshift_3': 0.0,\n",
       " 'moment_sigma_3': 2.641918659210205,\n",
       " 'e1_3': 0.16579753160476685,\n",
       " 'e2_3': 0.4585452377796173,\n",
       " 'mag_4': 21.992756605630866,\n",
       " 'redshift_4': 0.0,\n",
       " 'moment_sigma_4': 2.9265475273132324,\n",
       " 'e1_4': -0.2691175043582916,\n",
       " 'e2_4': 0.23928886651992798,\n",
       " 'mag_5': 24.712162458365917,\n",
       " 'redshift_5': 0.0,\n",
       " 'moment_sigma_5': 3.5070364475250244,\n",
       " 'e1_5': 0.20666247606277466,\n",
       " 'e2_5': -0.02110944874584675,\n",
       " 'nb_blended_gal': 6,\n",
       " 'mag': 21.992756605630866,\n",
       " 'mag_ir': -5.452581819624248,\n",
       " 'closest_mag': 25.203642384909546,\n",
       " 'closest_mag_ir': -1.6252567775565332,\n",
       " 'closest_x': 0.5989662897198752,\n",
       " 'closest_y': -0.7755537107836521,\n",
       " 'idx_closest_to_peak': 0,\n",
       " 'n_peak_detected': 1,\n",
       " 'SNR': 1251.579679845212,\n",
       " 'SNR_peak': 1.3325210449193734}"
      ]
     },
     "execution_count": 22,
     "metadata": {},
     "output_type": "execute_result"
    }
   ],
   "source": [
    "res[2]"
   ]
  },
  {
   "cell_type": "code",
   "execution_count": 23,
   "metadata": {},
   "outputs": [
    {
     "data": {
      "text/plain": [
       "<matplotlib.image.AxesImage at 0x7fd316aa7c18>"
      ]
     },
     "execution_count": 23,
     "metadata": {},
     "output_type": "execute_result"
    },
    {
     "data": {
      "image/png": "[encoded data removed]",
      "text/plain": [
       "<Figure size 720x360 with 2 Axes>"
      ]
     },
     "metadata": {
      "needs_background": "light"
     },
     "output_type": "display_data"
    }
   ],
   "source": [
    "fig, ax = plt.subplots(1,2, figsize =(10,5))\n",
    "ax[0].imshow(res[0][6])\n",
    "ax[1].imshow(res[1][6])"
   ]
  },
  {
   "cell_type": "markdown",
   "metadata": {},
   "source": [
    "# Image generation of field"
   ]
  },
  {
   "cell_type": "markdown",
   "metadata": {},
   "source": [
    " 51.2 arcseconds of LSST (256x256 pixels, 256 x 0.2 = 51.2 - 0.2 arcsecond/pix is pixel size of LSST data), so shift in 51.2/2 = 25,6 arcseconds.\n",
    " \n",
    " On these field I add a random number between 32 and 96 galaxies so that, if we generate a lot of these, the mean is at 64 galaxies per patch (mean of galaxies density after 10 years of operation for LSST, https://arxiv.org/pdf/1911.02505.pdf, part 2.4 page 4)"
   ]
  },
  {
   "cell_type": "code",
   "execution_count": 6,
   "metadata": {},
   "outputs": [],
   "source": [
    "case = 'centered' # centered/ miscentered_0.1/ miscentered_peak/ \n",
    "gal_type = 'simulation' #simulation or real/\n",
    "training_or_test = 'test' # training test validation\n",
    "isolated_or_blended = 'blended' #isolated blended\n",
    "method_shift = 'uniform' # noshift uniform uniform+betaprime\n",
    "do_peak_detection = False\n",
    "N_files = 1 # Nb of files to generate\n",
    "N_per_file = 1 # Number of galaxies per file\n",
    "nmax_blend = (32,96) # Number of galaxies on an image if integer, or interval for sampling if tuple\n",
    "assert training_or_test in ['training', 'validation', 'test']\n",
    "\n",
    "# Fixed parameters:\n",
    "max_try = 100 # maximum number of try before leaving the function (to avoir infinite loop)\n",
    "mag_cut = 27.5 # magnitude cut\n",
    "max_stamp_size = 256 # Size of patch to generate\n",
    "center_brightest = False # Center the brightest galaxy (i.e. the galaxy with the highest magnitude)\n",
    "# If center_brightest = False : choose with method to use to shift the brightest\n",
    "method_shift_brightest = 'uniform'\n",
    "# And then you need to choose the method to shift the other galaxies as a function of the position of the brightest on the image\n",
    "method_shift_others = 'uniform'\n",
    "max_dx = 25.6 #in arcseconds, limit to use for uniform shifting: the center of the shifted galaxy will be shifted from the center or from the brightest galaxy from a random number between [-max_dx ; max_dx] arcsecond\n",
    "max_r = 4. #in arcseconds, limit to use for annulus shifting: galaxy is shifted in an annulus around the center of the image or of the brightest galaxy which has for minimum radius fwhm_lsst/2 and for maximum radius max_r"
   ]
  },
  {
   "cell_type": "code",
   "execution_count": null,
   "metadata": {},
   "outputs": [],
   "source": [
    "# Index to use\n",
    "used_idx = np.arange(5000)\n",
    "# Catalog path\n",
    "cosmos_cat_dir = '/sps/lsst/users/barcelin/COSMOS_25.2_training_sample'"
   ]
  },
  {
   "cell_type": "markdown",
   "metadata": {},
   "source": [
    "## With simulations"
   ]
  },
  {
   "cell_type": "code",
   "execution_count": null,
   "metadata": {
    "scrolled": false
   },
   "outputs": [],
   "source": [
    "res = image_generator_sim(cosmos_cat_dir, training_or_test, isolated_or_blended, used_idx, nmax_blend, max_try, mag_cut, method_shift_brightest, method_shift_others, max_dx, max_r, do_peak_detection, center_brightest, max_stamp_size)"
   ]
  },
  {
   "cell_type": "code",
   "execution_count": null,
   "metadata": {
    "scrolled": true
   },
   "outputs": [],
   "source": [
    "res[2]"
   ]
  },
  {
   "cell_type": "code",
   "execution_count": null,
   "metadata": {},
   "outputs": [],
   "source": [
    "print(str(res[2]['nb_blended_gal'])+' galaxies are added to this image.')"
   ]
  },
  {
   "cell_type": "markdown",
   "metadata": {},
   "source": [
    "Here res[0] is not very interesting to plot. It is just the first galaxy which was generated, not necessarily the brightest one, as we set the parameter center_brightest to False."
   ]
  },
  {
   "cell_type": "code",
   "execution_count": null,
   "metadata": {},
   "outputs": [],
   "source": [
    "fig, ax = plt.subplots(1,2, figsize =(20,10))\n",
    "ax[0].imshow(res[1][6])\n",
    "ax[1].imshow(res[1][6], vmax = 2000)"
   ]
  },
  {
   "cell_type": "markdown",
   "metadata": {},
   "source": [
    "Use the plot_rgb function of the plot module to show the image in RGB (IRG bands)"
   ]
  },
  {
   "cell_type": "code",
   "execution_count": null,
   "metadata": {},
   "outputs": [],
   "source": [
    "bands = [7,6,5] # Plot ugrizy\n",
    "\n",
    "fig = plt.figure(figsize = (10,10))\n",
    "\n",
    "plot.plot_rgb(res[1]/(np.max(res[1][4:])/10), bands = bands,ax= None, band_first = True,zoom = 1, clip = False)"
   ]
  },
  {
   "cell_type": "markdown",
   "metadata": {},
   "source": [
    "Put a cross on the center of each galaxy with the shift information generated when the image is created."
   ]
  },
  {
   "cell_type": "code",
   "execution_count": null,
   "metadata": {},
   "outputs": [],
   "source": [
    "bands = [7,6,5] # Plot ugrizy\n",
    "pixel_scale_lsst = 0.2 # arcsec/pix\n",
    "fig = plt.figure(figsize = (10,10))\n",
    "\n",
    "plot.plot_rgb(res[1]/(np.max(res[1][4:])/10), bands = bands,ax= None, band_first = True,zoom = 1, shifts = res[3]/pixel_scale_lsst, clip = False)"
   ]
  },
  {
   "cell_type": "markdown",
   "metadata": {},
   "source": [
    "## With real images"
   ]
  },
  {
   "cell_type": "code",
   "execution_count": null,
   "metadata": {},
   "outputs": [],
   "source": [
    "case = 'centered' # centered/ miscentered_0.1/ miscentered_peak/ \n",
    "gal_type = 'real' #simulation or real/\n",
    "training_or_test = 'test' # training test validation\n",
    "isolated_or_blended = 'blended' #isolated blended\n",
    "method_shift = 'uniform' # noshift uniform uniform+betaprime\n",
    "do_peak_detection = False\n",
    "N_files = 1 # Nb of files to generate\n",
    "N_per_file = 1 # Number of galaxies per file\n",
    "nmax_blend = (32,96) # Number of galaxies on an image if integer, or interval for sampling if tuple\n",
    "assert training_or_test in ['training', 'validation', 'test']\n",
    "\n",
    "# Fixed parameters:\n",
    "max_try = 100 # maximum number of try before leaving the function (to avoir infinite loop)\n",
    "mag_cut = 24. # magnitude cut\n",
    "max_stamp_size = 256 # Size of patch to generate\n",
    "center_brightest = False # Center the brightest galaxy (i.e. the galaxy with the highest magnitude)\n",
    "# If center_brightest = False : choose with method to use to shift the brightest\n",
    "method_shift_brightest = 'uniform'\n",
    "# And then you need to choose the method to shift the other galaxies as a function of the position of the brightest on the image\n",
    "method_shift_others = 'uniform'\n",
    "max_dx = 25.6 #in arcseconds, limit to use for uniform shifting: the center of the shifted galaxy will be shifted from the center or from the brightest galaxy from a random number between [-max_dx ; max_dx] arcsecond\n",
    "max_r = 4. #in arcseconds, limit to use for annulus shifting: galaxy is shifted in an annulus around the center of the image or of the brightest galaxy which has for minimum radius fwhm_lsst/2 and for maximum radius max_r"
   ]
  },
  {
   "cell_type": "code",
   "execution_count": null,
   "metadata": {},
   "outputs": [],
   "source": [
    "# Index to use\n",
    "used_idx = np.arange(5000)\n",
    "# Catalog path\n",
    "cosmos_cat_dir = '/sps/lsst/users/barcelin/COSMOS_25.2_training_sample'"
   ]
  },
  {
   "cell_type": "code",
   "execution_count": null,
   "metadata": {},
   "outputs": [],
   "source": [
    "res = image_generator_real(cosmos_cat_dir, training_or_test, isolated_or_blended, used_idx, nmax_blend, max_try, mag_cut, method_shift_brightest, method_shift_others, max_dx, max_r, do_peak_detection, center_brightest, max_stamp_size)"
   ]
  },
  {
   "cell_type": "code",
   "execution_count": null,
   "metadata": {},
   "outputs": [],
   "source": [
    "res[2]"
   ]
  },
  {
   "cell_type": "code",
   "execution_count": null,
   "metadata": {},
   "outputs": [],
   "source": [
    "print(str(res[2]['nb_blended_gal'])+' galaxies are added to this image.')"
   ]
  },
  {
   "cell_type": "code",
   "execution_count": null,
   "metadata": {},
   "outputs": [],
   "source": [
    "fig, ax = plt.subplots(1,2, figsize =(20,10))\n",
    "ax[0].imshow(res[0][6])\n",
    "ax[1].imshow(res[1][6], vmax = 10000)"
   ]
  },
  {
   "cell_type": "code",
   "execution_count": null,
   "metadata": {},
   "outputs": [],
   "source": [
    "bands = [7,6,5] # Plot ugrizy\n",
    "\n",
    "fig = plt.figure(figsize = (10,10))\n",
    "\n",
    "plot.plot_rgb(res[1]/(np.max(res[1][4:])/10), bands = bands,ax= None, band_first = True,zoom = 1, clip = False)"
   ]
  },
  {
   "cell_type": "code",
   "execution_count": null,
   "metadata": {
    "scrolled": false
   },
   "outputs": [],
   "source": [
    "bands = [7,6,5] # Plot ugrizy\n",
    "pixel_scale_lsst = 0.2 # arcsec/pix\n",
    "fig = plt.figure(figsize = (10,10))\n",
    "\n",
    "plot.plot_rgb(res[1]/(np.max(res[1][4:])/10), bands = bands,ax= None, band_first = True,zoom = 1, shifts = res[3]/pixel_scale_lsst, clip = False)"
   ]
  },
  {
   "cell_type": "code",
   "execution_count": null,
   "metadata": {},
   "outputs": [],
   "source": []
  }
 ],
 "metadata": {
  "kernelspec": {
   "display_name": "Python 3",
   "language": "python",
   "name": "python3"
  },
  "language_info": {
   "codemirror_mode": {
    "name": "ipython",
    "version": 3
   },
   "file_extension": ".py",
   "mimetype": "text/x-python",
   "name": "python",
   "nbconvert_exporter": "python",
   "pygments_lexer": "ipython3",
   "version": "3.6.8"
  },
  "toc": {
   "base_numbering": 1,
   "nav_menu": {},
   "number_sections": true,
   "sideBar": true,
   "skip_h1_title": false,
   "title_cell": "Table of Contents",
   "title_sidebar": "Contents",
   "toc_cell": false,
   "toc_position": {
    "height": "calc(100% - 180px)",
    "left": "10px",
    "top": "150px",
    "width": "288px"
   },
   "toc_section_display": true,
   "toc_window_display": true
  }
 },
 "nbformat": 4,
 "nbformat_minor": 2
}

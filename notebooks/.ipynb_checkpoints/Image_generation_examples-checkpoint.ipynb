{
 "cells": [
  {
   "cell_type": "code",
   "execution_count": 1,
   "metadata": {},
   "outputs": [],
   "source": [
    "import numpy as np\n",
    "import matplotlib.pyplot as plt\n",
    "import sys\n",
    "import os "
   ]
  },
  {
   "cell_type": "code",
   "execution_count": 2,
   "metadata": {},
   "outputs": [
    {
     "ename": "ModuleNotFoundError",
     "evalue": "No module named 'tools_for_VAE'",
     "output_type": "error",
     "traceback": [
      "\u001b[0;31m\u001b[0m",
      "\u001b[0;31mModuleNotFoundError\u001b[0mTraceback (most recent call last)",
      "\u001b[0;32m<ipython-input-2-45c24d81a677>\u001b[0m in \u001b[0;36m<module>\u001b[0;34m\u001b[0m\n\u001b[1;32m      1\u001b[0m \u001b[0msys\u001b[0m\u001b[0;34m.\u001b[0m\u001b[0mpath\u001b[0m\u001b[0;34m.\u001b[0m\u001b[0minsert\u001b[0m\u001b[0;34m(\u001b[0m\u001b[0;36m0\u001b[0m\u001b[0;34m,\u001b[0m\u001b[0;34m'../scripts/Images_generation/'\u001b[0m\u001b[0;34m)\u001b[0m\u001b[0;34m\u001b[0m\u001b[0;34m\u001b[0m\u001b[0m\n\u001b[0;32m----> 2\u001b[0;31m \u001b[0;32mfrom\u001b[0m \u001b[0mimages_generator\u001b[0m \u001b[0;32mimport\u001b[0m \u001b[0mimage_generator_sim\u001b[0m\u001b[0;34m,\u001b[0m \u001b[0mimage_generator_real\u001b[0m\u001b[0;34m\u001b[0m\u001b[0;34m\u001b[0m\u001b[0m\n\u001b[0m\u001b[1;32m      3\u001b[0m \u001b[0;32mfrom\u001b[0m \u001b[0mimages_utils\u001b[0m \u001b[0;32mimport\u001b[0m \u001b[0mget_data\u001b[0m\u001b[0;34m,\u001b[0m \u001b[0mshift_gal\u001b[0m\u001b[0;34m,\u001b[0m \u001b[0mpeak_detection\u001b[0m\u001b[0;34m,\u001b[0m \u001b[0mdraw_images\u001b[0m\u001b[0;34m\u001b[0m\u001b[0;34m\u001b[0m\u001b[0m\n\u001b[1;32m      4\u001b[0m \u001b[0;32mimport\u001b[0m \u001b[0mcosmos_params\u001b[0m\u001b[0;34m\u001b[0m\u001b[0;34m\u001b[0m\u001b[0m\n\u001b[1;32m      5\u001b[0m \u001b[0;34m\u001b[0m\u001b[0m\n",
      "\u001b[0;32m/pbs/throng/lsst/users/barcelin/image_generation_GalSim/scripts/Images_generation/images_generator.py\u001b[0m in \u001b[0;36m<module>\u001b[0;34m\u001b[0m\n\u001b[1;32m     12\u001b[0m \u001b[0;34m\u001b[0m\u001b[0m\n\u001b[1;32m     13\u001b[0m \u001b[0msys\u001b[0m\u001b[0;34m.\u001b[0m\u001b[0mpath\u001b[0m\u001b[0;34m.\u001b[0m\u001b[0minsert\u001b[0m\u001b[0;34m(\u001b[0m\u001b[0;36m0\u001b[0m\u001b[0;34m,\u001b[0m\u001b[0;34m'../scripts/tools_generation/'\u001b[0m\u001b[0;34m)\u001b[0m\u001b[0;34m\u001b[0m\u001b[0;34m\u001b[0m\u001b[0m\n\u001b[0;32m---> 14\u001b[0;31m \u001b[0;32mfrom\u001b[0m \u001b[0mtools_for_VAE\u001b[0m \u001b[0;32mimport\u001b[0m \u001b[0mutils\u001b[0m\u001b[0;34m\u001b[0m\u001b[0;34m\u001b[0m\u001b[0m\n\u001b[0m\u001b[1;32m     15\u001b[0m \u001b[0;32mfrom\u001b[0m \u001b[0mimages_utils\u001b[0m \u001b[0;32mimport\u001b[0m \u001b[0mget_data\u001b[0m\u001b[0;34m,\u001b[0m \u001b[0mshift_gal\u001b[0m\u001b[0;34m,\u001b[0m \u001b[0mpeak_detection\u001b[0m\u001b[0;34m,\u001b[0m \u001b[0mdraw_images\u001b[0m\u001b[0;34m\u001b[0m\u001b[0;34m\u001b[0m\u001b[0m\n\u001b[1;32m     16\u001b[0m \u001b[0;34m\u001b[0m\u001b[0m\n",
      "\u001b[0;31mModuleNotFoundError\u001b[0m: No module named 'tools_for_VAE'"
     ]
    }
   ],
   "source": [
    "sys.path.insert(0,'../scripts/Images_generation/')\n",
    "from images_generator import image_generator_sim, image_generator_real\n",
    "from images_utils import get_data, shift_gal, peak_detection, draw_images\n",
    "import cosmos_params\n",
    "\n",
    "sys.path.insert(0,'../scripts/tools_generation/')\n",
    "from tools_generation import utils, vae_functions, generator, model, plot, layers"
   ]
  },
  {
   "cell_type": "markdown",
   "metadata": {},
   "source": [
    "# Image generation using parametric models (i.e. simulations)"
   ]
  },
  {
   "cell_type": "markdown",
   "metadata": {},
   "source": [
    "## Generate image of isolated galaxies with brightest centered"
   ]
  },
  {
   "cell_type": "code",
   "execution_count": null,
   "metadata": {},
   "outputs": [],
   "source": [
    "case = 'centered' # centered/ miscentered_0.1/ miscentered_peak/ \n",
    "gal_type = 'simulation' #simulation or real/\n",
    "training_or_test = 'test' # training test validation\n",
    "isolated_or_blended = 'isolated' #isolated blended\n",
    "method_shift = 'noshift' # noshift uniform uniform+betaprime\n",
    "do_peak_detection = False\n",
    "N_files = 1 # Nb of files to generate\n",
    "N_per_file = 1 # Number of galaxies per file\n",
    "nmax_blend = 1 # Number of galaxies on an image if integer, or interval for sampling if tuple\n",
    "assert training_or_test in ['training', 'validation', 'test']\n",
    "\n",
    "# Fixed parameters:\n",
    "max_try = 100 # maximum number of try before leaving the function (to avoir infinite loop)\n",
    "mag_cut = 27.5 # magnitude cut\n",
    "max_stamp_size = 64 # Size of patch to generate\n",
    "center_brightest = True # Center the brightest galaxy (i.e. the galaxy with the highest magnitude)\n",
    "# If center_brightest = False : choose with method to use to shift the brightest\n",
    "method_shift_brightest = 'uniform'\n",
    "# And then you need to choose the method to shift the other galaxies as a function of the position of the brightest on the image\n",
    "method_shift_others = 'uniform'\n",
    "max_dx = 3.2 #in arcseconds, limit to use for uniform shifting: the center of the shifted galaxy will be shifted from the center or from the brightest galaxy from a random number between [-max_dx ; max_dx] arcsecond\n",
    "max_r = 2. #in arcseconds, limit to use for annulus shifting: galaxy is shifted in an annulus around the center of the image or of the brightest galaxy which has for minimum radius fwhm_lsst/2 and for maximum radius max_r\n"
   ]
  },
  {
   "cell_type": "code",
   "execution_count": null,
   "metadata": {},
   "outputs": [],
   "source": [
    "# Index to use\n",
    "used_idx = np.arange(5000)\n",
    "# Catalog path\n",
    "cosmos_cat_dir = '/sps/lsst/users/barcelin/COSMOS_25.2_training_sample'"
   ]
  },
  {
   "cell_type": "code",
   "execution_count": null,
   "metadata": {},
   "outputs": [],
   "source": [
    "res = image_generator_sim(cosmos_cat_dir, training_or_test, isolated_or_blended, used_idx, nmax_blend, max_try, mag_cut, method_shift_brightest, method_shift_others, max_dx, max_r, do_peak_detection, center_brightest, max_stamp_size)"
   ]
  },
  {
   "cell_type": "code",
   "execution_count": null,
   "metadata": {},
   "outputs": [],
   "source": [
    "res[2]"
   ]
  },
  {
   "cell_type": "code",
   "execution_count": null,
   "metadata": {},
   "outputs": [],
   "source": [
    "fig, ax = plt.subplots(1,2, figsize =(10,5))\n",
    "ax[0].imshow(res[0][6])\n",
    "ax[1].imshow(res[1][6])"
   ]
  },
  {
   "cell_type": "markdown",
   "metadata": {},
   "source": [
    "## Generate image of blended galaxies without brightest centered"
   ]
  },
  {
   "cell_type": "code",
   "execution_count": null,
   "metadata": {},
   "outputs": [],
   "source": [
    "case = 'centered' # centered/ miscentered_0.1/ miscentered_peak/ \n",
    "gal_type = 'simulation' #simulation or real/\n",
    "training_or_test = 'test' # training test validation\n",
    "isolated_or_blended = 'blended' #isolated blended\n",
    "method_shift = 'uniform' # noshift uniform uniform+betaprime\n",
    "do_peak_detection = False\n",
    "N_files = 1 # Nb of files to generate\n",
    "N_per_file = 1 # Number of galaxies per file\n",
    "nmax_blend = 6 # Number of galaxies on an image if integer, or interval for sampling if tuple\n",
    "assert training_or_test in ['training', 'validation', 'test']\n",
    "\n",
    "# Fixed parameters:\n",
    "max_try = 100 # maximum number of try before leaving the function (to avoir infinite loop)\n",
    "mag_cut = 27.5 # magnitude cut\n",
    "max_stamp_size = 64 # Size of patch to generate\n",
    "center_brightest = True # Center the brightest galaxy (i.e. the galaxy with the highest magnitude)\n",
    "# If center_brightest = False : choose with method to use to shift the brightest\n",
    "method_shift_brightest = 'uniform'\n",
    "# And then you need to choose the method to shift the other galaxies as a function of the position of the brightest on the image\n",
    "method_shift_others = 'uniform'\n",
    "max_dx = 3.2 #in arcseconds, limit to use for uniform shifting: the center of the shifted galaxy will be shifted from the center or from the brightest galaxy from a random number between [-max_dx ; max_dx] arcsecond\n",
    "max_r = 2. #in arcseconds, limit to use for annulus shifting: galaxy is shifted in an annulus around the center of the image or of the brightest galaxy which has for minimum radius fwhm_lsst/2 and for maximum radius max_r\n"
   ]
  },
  {
   "cell_type": "code",
   "execution_count": null,
   "metadata": {},
   "outputs": [],
   "source": [
    "# Index to use\n",
    "used_idx = np.arange(5000)\n",
    "# Catalog path\n",
    "cosmos_cat_dir = '/sps/lsst/users/barcelin/COSMOS_25.2_training_sample'"
   ]
  },
  {
   "cell_type": "code",
   "execution_count": null,
   "metadata": {},
   "outputs": [],
   "source": [
    "res = image_generator_sim(cosmos_cat_dir, training_or_test, isolated_or_blended, used_idx, nmax_blend, max_try, mag_cut, method_shift_brightest, method_shift_others, max_dx, max_r, do_peak_detection, center_brightest)"
   ]
  },
  {
   "cell_type": "code",
   "execution_count": null,
   "metadata": {},
   "outputs": [],
   "source": [
    "res[2]"
   ]
  },
  {
   "cell_type": "code",
   "execution_count": null,
   "metadata": {},
   "outputs": [],
   "source": [
    "fig, ax = plt.subplots(1,2, figsize =(10,5))\n",
    "ax[0].imshow(res[0][6])\n",
    "ax[1].imshow(res[1][6])"
   ]
  },
  {
   "cell_type": "markdown",
   "metadata": {},
   "source": [
    "Now if I want an image with a variable number of galaxies, say between 2 and 5, I need to set the 'nmax_blend' parameter to (2,5)."
   ]
  },
  {
   "cell_type": "code",
   "execution_count": null,
   "metadata": {},
   "outputs": [],
   "source": [
    "nmax_blend = (2,5) # Give an interval to sample the number of galaxies to add in this interval"
   ]
  },
  {
   "cell_type": "code",
   "execution_count": null,
   "metadata": {},
   "outputs": [],
   "source": [
    "res = image_generator_sim(cosmos_cat_dir, training_or_test, isolated_or_blended, used_idx, nmax_blend, max_try, mag_cut, method_shift_brightest, method_shift_others, max_dx, max_r, do_peak_detection, center_brightest)"
   ]
  },
  {
   "cell_type": "code",
   "execution_count": null,
   "metadata": {},
   "outputs": [],
   "source": [
    "res[2]"
   ]
  },
  {
   "cell_type": "code",
   "execution_count": null,
   "metadata": {},
   "outputs": [],
   "source": [
    "fig, ax = plt.subplots(1,2, figsize =(10,5))\n",
    "ax[0].imshow(res[0][6])\n",
    "ax[1].imshow(res[1][6])"
   ]
  },
  {
   "cell_type": "markdown",
   "metadata": {},
   "source": [
    "# Image generation using real galaxy images (brightest not centered)"
   ]
  },
  {
   "cell_type": "markdown",
   "metadata": {},
   "source": [
    "A small correlated noise is observed on these 'denoised' real images. \n",
    "A procedure exists in GalSim to whiten the noise but is still not functionning yet. An issue is opened about this: https://github.com/GalSim-developers/GalSim/issues/1071\n",
    "\n",
    "\n",
    "Important: If the parameter 'center_brightest' is set to 'False', the brightest galaxy is not centered any more but also the first parameters at rank 0 in the data do not refer to the brightest galaxy any more. It is the case when 'center_brightest' is set to 'True'."
   ]
  },
  {
   "cell_type": "markdown",
   "metadata": {},
   "source": [
    "## Generate image of isolated galaxies"
   ]
  },
  {
   "cell_type": "code",
   "execution_count": null,
   "metadata": {},
   "outputs": [],
   "source": [
    "case = 'centered' # centered/ miscentered_0.1/ miscentered_peak/ \n",
    "gal_type = 'real' #simulation or real/\n",
    "training_or_test = 'test' # training test validation\n",
    "isolated_or_blended = 'isolated' #isolated blended\n",
    "method_shift = 'noshift' # noshift uniform uniform+betaprime\n",
    "do_peak_detection = False\n",
    "N_files = 1 # Nb of files to generate\n",
    "N_per_file = 1 # Number of galaxies per file\n",
    "nmax_blend = 1 # Number of galaxies on an image if integer, or interval for sampling if tuple\n",
    "assert training_or_test in ['training', 'validation', 'test']\n",
    "\n",
    "# Fixed parameters:\n",
    "max_try = 100 # maximum number of try before leaving the function (to avoir infinite loop)\n",
    "mag_cut = 26. # magnitude cut\n",
    "max_stamp_size = 64 # Size of patch to generate\n",
    "center_brightest = False # Center the brightest galaxy (i.e. the galaxy with the highest magnitude)\n",
    "# If center_brightest = False : choose with method to use to shift the brightest\n",
    "method_shift_brightest = 'uniform'\n",
    "# And then you need to choose the method to shift the other galaxies as a function of the position of the brightest on the image\n",
    "method_shift_others = 'uniform'\n",
    "max_dx = 3.2 #in arcseconds, limit to use for uniform shifting: the center of the shifted galaxy will be shifted from the center or from the brightest galaxy from a random number between [-max_dx ; max_dx] arcsecond\n",
    "max_r = 2. #in arcseconds, limit to use for annulus shifting: galaxy is shifted in an annulus around the center of the image or of the brightest galaxy which has for minimum radius fwhm_lsst/2 and for maximum radius max_r"
   ]
  },
  {
   "cell_type": "code",
   "execution_count": null,
   "metadata": {},
   "outputs": [],
   "source": [
    "# Index to use\n",
    "used_idx = np.arange(5000)\n",
    "# Catalog path\n",
    "cosmos_cat_dir = '/sps/lsst/users/barcelin/COSMOS_25.2_training_sample'"
   ]
  },
  {
   "cell_type": "code",
   "execution_count": null,
   "metadata": {},
   "outputs": [],
   "source": [
    "res = image_generator_real(cosmos_cat_dir, training_or_test, isolated_or_blended, used_idx, nmax_blend, max_try, mag_cut, method_shift_brightest, method_shift_others, max_dx, max_r, do_peak_detection, center_brightest, max_stamp_size)"
   ]
  },
  {
   "cell_type": "code",
   "execution_count": null,
   "metadata": {},
   "outputs": [],
   "source": [
    "res[2]"
   ]
  },
  {
   "cell_type": "code",
   "execution_count": null,
   "metadata": {},
   "outputs": [],
   "source": [
    "fig, ax = plt.subplots(1,2, figsize =(10,5))\n",
    "ax[0].imshow(res[0][6])\n",
    "ax[1].imshow(res[1][6])"
   ]
  },
  {
   "cell_type": "markdown",
   "metadata": {},
   "source": [
    "## Generate image of blended galaxies"
   ]
  },
  {
   "cell_type": "code",
   "execution_count": null,
   "metadata": {},
   "outputs": [],
   "source": [
    "case = 'centered' # centered/ miscentered_0.1/ miscentered_peak/ \n",
    "gal_type = 'real' #simulation or real/\n",
    "training_or_test = 'test' # training test validation\n",
    "isolated_or_blended = 'blended' #isolated blended\n",
    "method_shift = 'uniform' # noshift uniform uniform+betaprime\n",
    "do_peak_detection = False\n",
    "N_files = 1 # Nb of files to generate\n",
    "N_per_file = 1 # Number of galaxies per file\n",
    "nmax_blend = 6 # Number of galaxies on an image if integer, or interval for sampling if tuple\n",
    "assert training_or_test in ['training', 'validation', 'test']\n",
    "\n",
    "# Fixed parameters:\n",
    "max_try = 100 # maximum number of try before leaving the function (to avoir infinite loop)\n",
    "mag_cut = 26 # magnitude cut\n",
    "max_stamp_size = 64 # Size of patch to generate\n",
    "center_brightest = True # Center the brightest galaxy (i.e. the galaxy with the highest magnitude)\n",
    "# If center_brightest = False : choose with method to use to shift the brightest\n",
    "method_shift_brightest = 'uniform'\n",
    "# And then you need to choose the method to shift the other galaxies as a function of the position of the brightest on the image\n",
    "method_shift_others = 'annulus'\n",
    "max_dx = 3.2 #in arcseconds, limit to use for uniform shifting: the center of the shifted galaxy will be shifted from the center or from the brightest galaxy from a random number between [-max_dx ; max_dx] arcsecond\n",
    "max_r = 4. #in arcseconds, limit to use for annulus shifting: galaxy is shifted in an annulus around the center of the image or of the brightest galaxy which has for minimum radius fwhm_lsst/2 and for maximum radius max_r\n"
   ]
  },
  {
   "cell_type": "code",
   "execution_count": null,
   "metadata": {},
   "outputs": [],
   "source": [
    "# Index to use\n",
    "used_idx = np.arange(5000)\n",
    "# Catalog path\n",
    "cosmos_cat_dir = '/sps/lsst/users/barcelin/COSMOS_25.2_training_sample'"
   ]
  },
  {
   "cell_type": "code",
   "execution_count": null,
   "metadata": {},
   "outputs": [],
   "source": [
    "res = image_generator_real(cosmos_cat_dir, training_or_test, isolated_or_blended, used_idx, nmax_blend, max_try, mag_cut, method_shift_brightest, method_shift_others, max_dx, max_r, do_peak_detection, center_brightest, max_stamp_size)"
   ]
  },
  {
   "cell_type": "code",
   "execution_count": null,
   "metadata": {},
   "outputs": [],
   "source": [
    "res[2]"
   ]
  },
  {
   "cell_type": "code",
   "execution_count": null,
   "metadata": {},
   "outputs": [],
   "source": [
    "fig, ax = plt.subplots(1,2, figsize =(10,5))\n",
    "ax[0].imshow(res[0][6])\n",
    "ax[1].imshow(res[1][6])"
   ]
  },
  {
   "cell_type": "markdown",
   "metadata": {},
   "source": [
    "# Image generation of field"
   ]
  },
  {
   "cell_type": "markdown",
   "metadata": {},
   "source": [
    " 51.2 arcseconds of LSST (256x256 pixels, 256 x 0.2 = 51.2 - 0.2 arcsecond/pix is pixel size of LSST data), so shift in 51.2/2 = 25,6 arcseconds.\n",
    " \n",
    " On these field I add a random number between 32 and 96 galaxies so that, if we generate a lot of these, the mean is at 64 galaxies per patch (mean of galaxies density after 10 years of operation for LSST, https://arxiv.org/pdf/1911.02505.pdf, part 2.4 page 4)"
   ]
  },
  {
   "cell_type": "code",
   "execution_count": null,
   "metadata": {},
   "outputs": [],
   "source": [
    "case = 'centered' # centered/ miscentered_0.1/ miscentered_peak/ \n",
    "gal_type = 'simulation' #simulation or real/\n",
    "training_or_test = 'test' # training test validation\n",
    "isolated_or_blended = 'blended' #isolated blended\n",
    "method_shift = 'uniform' # noshift uniform uniform+betaprime\n",
    "do_peak_detection = False\n",
    "N_files = 1 # Nb of files to generate\n",
    "N_per_file = 1 # Number of galaxies per file\n",
    "nmax_blend = (32,96) # Number of galaxies on an image if integer, or interval for sampling if tuple\n",
    "assert training_or_test in ['training', 'validation', 'test']\n",
    "\n",
    "# Fixed parameters:\n",
    "max_try = 100 # maximum number of try before leaving the function (to avoir infinite loop)\n",
    "mag_cut = 27.5 # magnitude cut\n",
    "max_stamp_size = 256 # Size of patch to generate\n",
    "center_brightest = False # Center the brightest galaxy (i.e. the galaxy with the highest magnitude)\n",
    "# If center_brightest = False : choose with method to use to shift the brightest\n",
    "method_shift_brightest = 'uniform'\n",
    "# And then you need to choose the method to shift the other galaxies as a function of the position of the brightest on the image\n",
    "method_shift_others = 'uniform'\n",
    "max_dx = 25.6 #in arcseconds, limit to use for uniform shifting: the center of the shifted galaxy will be shifted from the center or from the brightest galaxy from a random number between [-max_dx ; max_dx] arcsecond\n",
    "max_r = 4. #in arcseconds, limit to use for annulus shifting: galaxy is shifted in an annulus around the center of the image or of the brightest galaxy which has for minimum radius fwhm_lsst/2 and for maximum radius max_r"
   ]
  },
  {
   "cell_type": "code",
   "execution_count": null,
   "metadata": {},
   "outputs": [],
   "source": [
    "# Index to use\n",
    "used_idx = np.arange(5000)\n",
    "# Catalog path\n",
    "cosmos_cat_dir = '/sps/lsst/users/barcelin/COSMOS_25.2_training_sample'"
   ]
  },
  {
   "cell_type": "markdown",
   "metadata": {},
   "source": [
    "## With simulations"
   ]
  },
  {
   "cell_type": "code",
   "execution_count": null,
   "metadata": {
    "scrolled": false
   },
   "outputs": [],
   "source": [
    "res = image_generator_sim(cosmos_cat_dir, training_or_test, isolated_or_blended, used_idx, nmax_blend, max_try, mag_cut, method_shift_brightest, method_shift_others, max_dx, max_r, do_peak_detection, center_brightest, max_stamp_size)"
   ]
  },
  {
   "cell_type": "code",
   "execution_count": null,
   "metadata": {
    "scrolled": true
   },
   "outputs": [],
   "source": [
    "res[2]"
   ]
  },
  {
   "cell_type": "code",
   "execution_count": null,
   "metadata": {},
   "outputs": [],
   "source": [
    "print(str(res[2]['nb_blended_gal'])+' galaxies are added to this image.')"
   ]
  },
  {
   "cell_type": "markdown",
   "metadata": {},
   "source": [
    "Here res[0] is not very interesting to plot. It is just the first galaxy which was generated, not necessarily the brightest one, as we set the parameter center_brightest to False."
   ]
  },
  {
   "cell_type": "code",
   "execution_count": null,
   "metadata": {},
   "outputs": [],
   "source": [
    "fig, ax = plt.subplots(1,2, figsize =(20,10))\n",
    "ax[0].imshow(res[1][6])\n",
    "ax[1].imshow(res[1][6], vmax = 2000)"
   ]
  },
  {
   "cell_type": "markdown",
   "metadata": {},
   "source": [
    "Use the plot_rgb function of the plot module to show the image in RGB (IRG bands)"
   ]
  },
  {
   "cell_type": "code",
   "execution_count": null,
   "metadata": {},
   "outputs": [],
   "source": [
    "bands = [7,6,5] # Plot ugrizy\n",
    "\n",
    "fig = plt.figure(figsize = (10,10))\n",
    "\n",
    "plot.plot_rgb(res[1]/(np.max(res[1][4:])/10), bands = bands,ax= None, band_first = True,zoom = 1, clip = False)"
   ]
  },
  {
   "cell_type": "markdown",
   "metadata": {},
   "source": [
    "Put a cross on the center of each galaxy with the shift information generated when the image is created."
   ]
  },
  {
   "cell_type": "code",
   "execution_count": null,
   "metadata": {},
   "outputs": [],
   "source": [
    "bands = [7,6,5] # Plot ugrizy\n",
    "pixel_scale_lsst = 0.2 # arcsec/pix\n",
    "fig = plt.figure(figsize = (10,10))\n",
    "\n",
    "plot.plot_rgb(res[1]/(np.max(res[1][4:])/10), bands = bands,ax= None, band_first = True,zoom = 1, shifts = res[3]/pixel_scale_lsst, clip = False)"
   ]
  },
  {
   "cell_type": "markdown",
   "metadata": {},
   "source": [
    "## With real images"
   ]
  },
  {
   "cell_type": "code",
   "execution_count": null,
   "metadata": {},
   "outputs": [],
   "source": [
    "case = 'centered' # centered/ miscentered_0.1/ miscentered_peak/ \n",
    "gal_type = 'real' #simulation or real/\n",
    "training_or_test = 'test' # training test validation\n",
    "isolated_or_blended = 'blended' #isolated blended\n",
    "method_shift = 'uniform' # noshift uniform uniform+betaprime\n",
    "do_peak_detection = False\n",
    "N_files = 1 # Nb of files to generate\n",
    "N_per_file = 1 # Number of galaxies per file\n",
    "nmax_blend = (32,96) # Number of galaxies on an image if integer, or interval for sampling if tuple\n",
    "assert training_or_test in ['training', 'validation', 'test']\n",
    "\n",
    "# Fixed parameters:\n",
    "max_try = 100 # maximum number of try before leaving the function (to avoir infinite loop)\n",
    "mag_cut = 24. # magnitude cut\n",
    "max_stamp_size = 256 # Size of patch to generate\n",
    "center_brightest = False # Center the brightest galaxy (i.e. the galaxy with the highest magnitude)\n",
    "# If center_brightest = False : choose with method to use to shift the brightest\n",
    "method_shift_brightest = 'uniform'\n",
    "# And then you need to choose the method to shift the other galaxies as a function of the position of the brightest on the image\n",
    "method_shift_others = 'uniform'\n",
    "max_dx = 25.6 #in arcseconds, limit to use for uniform shifting: the center of the shifted galaxy will be shifted from the center or from the brightest galaxy from a random number between [-max_dx ; max_dx] arcsecond\n",
    "max_r = 4. #in arcseconds, limit to use for annulus shifting: galaxy is shifted in an annulus around the center of the image or of the brightest galaxy which has for minimum radius fwhm_lsst/2 and for maximum radius max_r"
   ]
  },
  {
   "cell_type": "code",
   "execution_count": null,
   "metadata": {},
   "outputs": [],
   "source": [
    "# Index to use\n",
    "used_idx = np.arange(5000)\n",
    "# Catalog path\n",
    "cosmos_cat_dir = '/sps/lsst/users/barcelin/COSMOS_25.2_training_sample'"
   ]
  },
  {
   "cell_type": "code",
   "execution_count": null,
   "metadata": {},
   "outputs": [],
   "source": [
    "res = image_generator_real(cosmos_cat_dir, training_or_test, isolated_or_blended, used_idx, nmax_blend, max_try, mag_cut, method_shift_brightest, method_shift_others, max_dx, max_r, do_peak_detection, center_brightest, max_stamp_size)"
   ]
  },
  {
   "cell_type": "code",
   "execution_count": null,
   "metadata": {},
   "outputs": [],
   "source": [
    "res[2]"
   ]
  },
  {
   "cell_type": "code",
   "execution_count": null,
   "metadata": {},
   "outputs": [],
   "source": [
    "print(str(res[2]['nb_blended_gal'])+' galaxies are added to this image.')"
   ]
  },
  {
   "cell_type": "code",
   "execution_count": null,
   "metadata": {},
   "outputs": [],
   "source": [
    "fig, ax = plt.subplots(1,2, figsize =(20,10))\n",
    "ax[0].imshow(res[0][6])\n",
    "ax[1].imshow(res[1][6], vmax = 10000)"
   ]
  },
  {
   "cell_type": "code",
   "execution_count": null,
   "metadata": {},
   "outputs": [],
   "source": [
    "bands = [7,6,5] # Plot ugrizy\n",
    "\n",
    "fig = plt.figure(figsize = (10,10))\n",
    "\n",
    "plot.plot_rgb(res[1]/(np.max(res[1][4:])/10), bands = bands,ax= None, band_first = True,zoom = 1, clip = False)"
   ]
  },
  {
   "cell_type": "code",
   "execution_count": null,
   "metadata": {
    "scrolled": false
   },
   "outputs": [],
   "source": [
    "bands = [7,6,5] # Plot ugrizy\n",
    "pixel_scale_lsst = 0.2 # arcsec/pix\n",
    "fig = plt.figure(figsize = (10,10))\n",
    "\n",
    "plot.plot_rgb(res[1]/(np.max(res[1][4:])/10), bands = bands,ax= None, band_first = True,zoom = 1, shifts = res[3]/pixel_scale_lsst, clip = False)"
   ]
  },
  {
   "cell_type": "code",
   "execution_count": null,
   "metadata": {},
   "outputs": [],
   "source": []
  }
 ],
 "metadata": {
  "kernelspec": {
   "display_name": "Python 3",
   "language": "python",
   "name": "python3"
  },
  "language_info": {
   "codemirror_mode": {
    "name": "ipython",
    "version": 3
   },
   "file_extension": ".py",
   "mimetype": "text/x-python",
   "name": "python",
   "nbconvert_exporter": "python",
   "pygments_lexer": "ipython3",
   "version": "3.6.8"
  },
  "toc": {
   "base_numbering": 1,
   "nav_menu": {},
   "number_sections": true,
   "sideBar": true,
   "skip_h1_title": false,
   "title_cell": "Table of Contents",
   "title_sidebar": "Contents",
   "toc_cell": false,
   "toc_position": {
    "height": "calc(100% - 180px)",
    "left": "10px",
    "top": "150px",
    "width": "288px"
   },
   "toc_section_display": true,
   "toc_window_display": true
  }
 },
 "nbformat": 4,
 "nbformat_minor": 2
}

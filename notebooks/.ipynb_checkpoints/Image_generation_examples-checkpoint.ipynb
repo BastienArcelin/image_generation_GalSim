{
 "cells": [
  {
   "cell_type": "code",
   "execution_count": 1,
   "metadata": {},
   "outputs": [],
   "source": [
    "import numpy as np\n",
    "import matplotlib.pyplot as plt\n",
    "import sys\n",
    "import os "
   ]
  },
  {
   "cell_type": "code",
   "execution_count": 2,
   "metadata": {},
   "outputs": [
    {
     "name": "stderr",
     "output_type": "stream",
     "text": [
      "/sps/lsst/users/barcelin/miniconda/envs/python_cpu4/lib/python3.6/site-packages/tensorflow/python/framework/dtypes.py:526: FutureWarning: Passing (type, 1) or '1type' as a synonym of type is deprecated; in a future version of numpy, it will be understood as (type, (1,)) / '(1,)type'.\n",
      "  _np_qint8 = np.dtype([(\"qint8\", np.int8, 1)])\n",
      "/sps/lsst/users/barcelin/miniconda/envs/python_cpu4/lib/python3.6/site-packages/tensorflow/python/framework/dtypes.py:527: FutureWarning: Passing (type, 1) or '1type' as a synonym of type is deprecated; in a future version of numpy, it will be understood as (type, (1,)) / '(1,)type'.\n",
      "  _np_quint8 = np.dtype([(\"quint8\", np.uint8, 1)])\n",
      "/sps/lsst/users/barcelin/miniconda/envs/python_cpu4/lib/python3.6/site-packages/tensorflow/python/framework/dtypes.py:528: FutureWarning: Passing (type, 1) or '1type' as a synonym of type is deprecated; in a future version of numpy, it will be understood as (type, (1,)) / '(1,)type'.\n",
      "  _np_qint16 = np.dtype([(\"qint16\", np.int16, 1)])\n",
      "/sps/lsst/users/barcelin/miniconda/envs/python_cpu4/lib/python3.6/site-packages/tensorflow/python/framework/dtypes.py:529: FutureWarning: Passing (type, 1) or '1type' as a synonym of type is deprecated; in a future version of numpy, it will be understood as (type, (1,)) / '(1,)type'.\n",
      "  _np_quint16 = np.dtype([(\"quint16\", np.uint16, 1)])\n",
      "/sps/lsst/users/barcelin/miniconda/envs/python_cpu4/lib/python3.6/site-packages/tensorflow/python/framework/dtypes.py:530: FutureWarning: Passing (type, 1) or '1type' as a synonym of type is deprecated; in a future version of numpy, it will be understood as (type, (1,)) / '(1,)type'.\n",
      "  _np_qint32 = np.dtype([(\"qint32\", np.int32, 1)])\n",
      "/sps/lsst/users/barcelin/miniconda/envs/python_cpu4/lib/python3.6/site-packages/tensorflow/python/framework/dtypes.py:535: FutureWarning: Passing (type, 1) or '1type' as a synonym of type is deprecated; in a future version of numpy, it will be understood as (type, (1,)) / '(1,)type'.\n",
      "  np_resource = np.dtype([(\"resource\", np.ubyte, 1)])\n"
     ]
    },
    {
     "name": "stdout",
     "output_type": "stream",
     "text": [
      "\n",
      "WARNING: The TensorFlow contrib module will not be included in TensorFlow 2.0.\n",
      "For more information, please see:\n",
      "  * https://github.com/tensorflow/community/blob/master/rfcs/20180907-contrib-sunset.md\n",
      "  * https://github.com/tensorflow/addons\n",
      "If you depend on functionality not listed there, please file an issue.\n",
      "\n"
     ]
    }
   ],
   "source": [
    "sys.path.insert(0,'../scripts/Images_generation/')\n",
    "from images_generator import image_generator_sim, image_generator_real\n",
    "from images_utils import get_scale_radius, get_data, shift_gal, peak_detection, draw_images\n",
    "import cosmos_params\n",
    "\n",
    "sys.path.insert(0,'../scripts/tools_for_VAE/')\n",
    "from tools_for_VAE import utils, vae_functions, generator, model, plot, layers"
   ]
  },
  {
   "cell_type": "markdown",
   "metadata": {},
   "source": [
    "# Image generation using parametric models (i.e. simulations)"
   ]
  },
  {
   "cell_type": "markdown",
   "metadata": {},
   "source": [
    "## Generate image of isolated galaxies with brightest centered"
   ]
  },
  {
   "cell_type": "code",
   "execution_count": 20,
   "metadata": {},
   "outputs": [],
   "source": [
    "case = 'centered' # centered/ miscentered_0.1/ miscentered_peak/ \n",
    "gal_type = 'simulation' #simulation or real/\n",
    "training_or_test = 'test' # training test validation\n",
    "isolated_or_blended = 'isolated' #isolated blended\n",
    "method_shift = 'noshift' # noshift uniform uniform+betaprime\n",
    "do_peak_detection = False\n",
    "N_files = 1 # Nb of files to generate\n",
    "N_per_file = 1 # Number of galaxies per file\n",
    "nmax_blend = 1 # Maximum number of galaxies on an image\n",
    "assert training_or_test in ['training', 'validation', 'test']\n",
    "\n",
    "# Fixed parameters:\n",
    "max_try = 100 # maximum number of try before leaving the function (to avoir infinite loop)\n",
    "mag_cut = 27.5 # magnitude cut\n",
    "max_stamp_size = 64 # Size of patch to generate\n",
    "center_brightest = True # Center the brightest galaxy (i.e. the galaxy with the highest magnitude)\n",
    "# If center_brightest = False : choose with method to use to shift the brightest\n",
    "method_shift_brightest = 'uniform'\n",
    "# And then you need to choose the method to shift the other galaxies as a function of the position of the brightest on the image\n",
    "method_shift_others = 'uniform'\n",
    "max_dx = 3.2 #in arcseconds, limit to use for uniform shifting: the center of the shifted galaxy will be shifted from the center or from the brightest galaxy from a random number between [-max_dx ; max_dx] arcsecond\n",
    "max_r = 2. #in arcseconds, limit to use for annulus shifting: galaxy is shifted in an annulus around the center of the image or of the brightest galaxy which has for minimum radius fwhm_lsst/2 and for maximum radius max_r\n"
   ]
  },
  {
   "cell_type": "code",
   "execution_count": 21,
   "metadata": {},
   "outputs": [],
   "source": [
    "# Index to use\n",
    "used_idx = np.arange(5000)\n",
    "# Catalog path\n",
    "cosmos_cat_dir = '/sps/lsst/users/barcelin/COSMOS_25.2_training_sample'"
   ]
  },
  {
   "cell_type": "code",
   "execution_count": 22,
   "metadata": {},
   "outputs": [
    {
     "name": "stdout",
     "output_type": "stream",
     "text": [
      "True\n"
     ]
    }
   ],
   "source": [
    "res = image_generator_sim(cosmos_cat_dir, training_or_test, isolated_or_blended, used_idx, nmax_blend, max_try, mag_cut, method_shift_brightest, method_shift_others, max_dx, max_r, do_peak_detection, center_brightest, max_stamp_size)"
   ]
  },
  {
   "cell_type": "code",
   "execution_count": 23,
   "metadata": {},
   "outputs": [
    {
     "data": {
      "text/plain": [
       "{'redshift_0': 1.131700038909912,\n",
       " 'moment_sigma_0': 2.4019737243652344,\n",
       " 'e1_0': 0.06178378313779831,\n",
       " 'e2_0': 0.2945025563240051,\n",
       " 'mag_0': 26.24546799055339,\n",
       " 'redshift': 1.131700038909912,\n",
       " 'moment_sigma': 2.4019737243652344,\n",
       " 'e1': 0.06178378313779831,\n",
       " 'e2': 0.2945025563240051,\n",
       " 'mag': 26.24546799055339,\n",
       " 'closest_redshift': nan,\n",
       " 'closest_moment_sigma': nan,\n",
       " 'closest_e1': nan,\n",
       " 'closest_e2': nan,\n",
       " 'closest_mag': nan,\n",
       " 'blendedness_total_lsst': nan,\n",
       " 'blendedness_closest_lsst': nan,\n",
       " 'blendedness_aperture_lsst': nan,\n",
       " 'nb_blended_gal': 1,\n",
       " 'mag_ir': -1.8992773799362404,\n",
       " 'closest_mag_ir': nan,\n",
       " 'closest_x': nan,\n",
       " 'closest_y': nan,\n",
       " 'idx_closest_to_peak': 0,\n",
       " 'n_peak_detected': 1,\n",
       " 'SNR': 57.55217032382663,\n",
       " 'SNR_peak': 0.05408212758654296}"
      ]
     },
     "execution_count": 23,
     "metadata": {},
     "output_type": "execute_result"
    }
   ],
   "source": [
    "res[2]"
   ]
  },
  {
   "cell_type": "code",
   "execution_count": 24,
   "metadata": {},
   "outputs": [
    {
     "data": {
      "text/plain": [
       "<matplotlib.image.AxesImage at 0x7ff84e0d6898>"
      ]
     },
     "execution_count": 24,
     "metadata": {},
     "output_type": "execute_result"
    },
    {
     "data": {
      "image/png": "[encoded data removed]",
      "text/plain": [
       "<Figure size 720x360 with 2 Axes>"
      ]
     },
     "metadata": {
      "needs_background": "light"
     },
     "output_type": "display_data"
    }
   ],
   "source": [
    "fig, ax = plt.subplots(1,2, figsize =(10,5))\n",
    "ax[0].imshow(res[0][6])\n",
    "ax[1].imshow(res[1][6])"
   ]
  },
  {
   "cell_type": "markdown",
   "metadata": {},
   "source": [
    "## Generate image of blended galaxies without brightest centered"
   ]
  },
  {
   "cell_type": "code",
   "execution_count": 33,
   "metadata": {},
   "outputs": [],
   "source": [
    "case = 'centered' # centered/ miscentered_0.1/ miscentered_peak/ \n",
    "gal_type = 'simulation' #simulation or real/\n",
    "training_or_test = 'test' # training test validation\n",
    "isolated_or_blended = 'blended' #isolated blended\n",
    "method_shift = 'uniform' # noshift uniform uniform+betaprime\n",
    "do_peak_detection = False\n",
    "N_files = 1 # Nb of files to generate\n",
    "N_per_file = 1 # Number of galaxies per file\n",
    "nmax_blend = 6 # Maximum number of galaxies on an image\n",
    "assert training_or_test in ['training', 'validation', 'test']\n",
    "\n",
    "# Fixed parameters:\n",
    "max_try = 100 # maximum number of try before leaving the function (to avoir infinite loop)\n",
    "mag_cut = 27.5 # magnitude cut\n",
    "max_stamp_size = 64 # Size of patch to generate\n",
    "center_brightest = True # Center the brightest galaxy (i.e. the galaxy with the highest magnitude)\n",
    "# If center_brightest = False : choose with method to use to shift the brightest\n",
    "method_shift_brightest = 'uniform'\n",
    "# And then you need to choose the method to shift the other galaxies as a function of the position of the brightest on the image\n",
    "method_shift_others = 'uniform'\n",
    "max_dx = 3.2 #in arcseconds, limit to use for uniform shifting: the center of the shifted galaxy will be shifted from the center or from the brightest galaxy from a random number between [-max_dx ; max_dx] arcsecond\n",
    "max_r = 2. #in arcseconds, limit to use for annulus shifting: galaxy is shifted in an annulus around the center of the image or of the brightest galaxy which has for minimum radius fwhm_lsst/2 and for maximum radius max_r\n"
   ]
  },
  {
   "cell_type": "code",
   "execution_count": null,
   "metadata": {},
   "outputs": [],
   "source": [
    "# Index to use\n",
    "used_idx = np.arange(5000)\n",
    "# Catalog path\n",
    "cosmos_cat_dir = '/sps/lsst/users/barcelin/COSMOS_25.2_training_sample'"
   ]
  },
  {
   "cell_type": "code",
   "execution_count": 37,
   "metadata": {},
   "outputs": [
    {
     "name": "stdout",
     "output_type": "stream",
     "text": [
      "True\n"
     ]
    }
   ],
   "source": [
    "res = image_generator_sim(cosmos_cat_dir, training_or_test, isolated_or_blended, used_idx, nmax_blend, max_try, mag_cut, method_shift_brightest, method_shift_others, max_dx, max_r, do_peak_detection, center_brightest)"
   ]
  },
  {
   "cell_type": "code",
   "execution_count": 38,
   "metadata": {},
   "outputs": [
    {
     "data": {
      "text/plain": [
       "{'redshift_0': 0.7178000211715698,\n",
       " 'moment_sigma_0': 1.834620475769043,\n",
       " 'e1_0': 0.057585231959819794,\n",
       " 'e2_0': -0.12959717214107513,\n",
       " 'mag_0': 26.033861707360877,\n",
       " 'redshift_1': 0.2921000123023987,\n",
       " 'moment_sigma_1': 1.6076533794403076,\n",
       " 'e1_1': -0.35992616415023804,\n",
       " 'e2_1': 0.19508258998394012,\n",
       " 'mag_1': 27.412402803324195,\n",
       " 'redshift_2': 10.0,\n",
       " 'moment_sigma_2': 10.0,\n",
       " 'e1_2': 10.0,\n",
       " 'e2_2': 10.0,\n",
       " 'mag_2': 10.0,\n",
       " 'redshift_3': 10.0,\n",
       " 'moment_sigma_3': 10.0,\n",
       " 'e1_3': 10.0,\n",
       " 'e2_3': 10.0,\n",
       " 'mag_3': 10.0,\n",
       " 'redshift_4': 10.0,\n",
       " 'moment_sigma_4': 10.0,\n",
       " 'e1_4': 10.0,\n",
       " 'e2_4': 10.0,\n",
       " 'mag_4': 10.0,\n",
       " 'redshift_5': 10.0,\n",
       " 'moment_sigma_5': 10.0,\n",
       " 'e1_5': 10.0,\n",
       " 'e2_5': 10.0,\n",
       " 'mag_5': 10.0,\n",
       " 'redshift': 0.7178000211715698,\n",
       " 'moment_sigma': 1.834620475769043,\n",
       " 'e1': 0.057585231959819794,\n",
       " 'e2': -0.12959717214107513,\n",
       " 'mag': 26.033861707360877,\n",
       " 'closest_redshift': 0.2921000123023987,\n",
       " 'closest_moment_sigma': 1.607653260231018,\n",
       " 'closest_e1': -0.3599291443824768,\n",
       " 'closest_e2': 0.19508293271064758,\n",
       " 'closest_mag': 27.412402803324195,\n",
       " 'blendedness_total_lsst': 0.0029411911964416504,\n",
       " 'blendedness_closest_lsst': 0.007400509,\n",
       " 'blendedness_aperture_lsst': 0.00012826272484726213,\n",
       " 'nb_blended_gal': 2,\n",
       " 'mag_ir': -3.23803559024062,\n",
       " 'closest_mag_ir': 0.6037210788291594,\n",
       " 'closest_x': 2.153322302329485,\n",
       " 'closest_y': -1.7848093307836805,\n",
       " 'idx_closest_to_peak': 0,\n",
       " 'n_peak_detected': 1,\n",
       " 'SNR': 71.39539935466283,\n",
       " 'SNR_peak': 0.0871862370227244}"
      ]
     },
     "execution_count": 38,
     "metadata": {},
     "output_type": "execute_result"
    }
   ],
   "source": [
    "res[2]"
   ]
  },
  {
   "cell_type": "code",
   "execution_count": 39,
   "metadata": {},
   "outputs": [
    {
     "data": {
      "text/plain": [
       "<matplotlib.image.AxesImage at 0x7ff84dda2f98>"
      ]
     },
     "execution_count": 39,
     "metadata": {},
     "output_type": "execute_result"
    },
    {
     "data": {
      "image/png": "[encoded data removed]",
      "text/plain": [
       "<Figure size 720x360 with 2 Axes>"
      ]
     },
     "metadata": {
      "needs_background": "light"
     },
     "output_type": "display_data"
    }
   ],
   "source": [
    "fig, ax = plt.subplots(1,2, figsize =(10,5))\n",
    "ax[0].imshow(res[0][6])\n",
    "ax[1].imshow(res[1][6])"
   ]
  },
  {
   "cell_type": "markdown",
   "metadata": {},
   "source": [
    "# Image generation using real galaxy images"
   ]
  },
  {
   "cell_type": "markdown",
   "metadata": {},
   "source": [
    "A small correlated noise is observed on these 'denoised' real images. \n",
    "\n",
    "A procedure exists in GalSim to whiten the noise but is still not functionning yet. An issue is opened about this: https://github.com/GalSim-developers/GalSim/issues/1071"
   ]
  },
  {
   "cell_type": "markdown",
   "metadata": {},
   "source": [
    "## Generate image of isolated galaxies"
   ]
  },
  {
   "cell_type": "code",
   "execution_count": 40,
   "metadata": {},
   "outputs": [],
   "source": [
    "case = 'centered' # centered/ miscentered_0.1/ miscentered_peak/ \n",
    "gal_type = 'real' #simulation or real/\n",
    "training_or_test = 'test' # training test validation\n",
    "isolated_or_blended = 'isolated' #isolated blended\n",
    "method_shift = 'noshift' # noshift uniform uniform+betaprime\n",
    "do_peak_detection = False\n",
    "N_files = 1 # Nb of files to generate\n",
    "N_per_file = 1 # Number of galaxies per file\n",
    "nmax_blend = 1 # Maximum number of galaxies on an image\n",
    "assert training_or_test in ['training', 'validation', 'test']\n",
    "\n",
    "# Fixed parameters:\n",
    "max_try = 100 # maximum number of try before leaving the function (to avoir infinite loop)\n",
    "mag_cut = 26. # magnitude cut\n",
    "max_stamp_size = 64 # Size of patch to generate\n",
    "center_brightest = False # Center the brightest galaxy (i.e. the galaxy with the highest magnitude)\n",
    "# If center_brightest = False : choose with method to use to shift the brightest\n",
    "method_shift_brightest = 'uniform'\n",
    "# And then you need to choose the method to shift the other galaxies as a function of the position of the brightest on the image\n",
    "method_shift_others = 'uniform'\n",
    "max_dx = 3.2 #in arcseconds, limit to use for uniform shifting: the center of the shifted galaxy will be shifted from the center or from the brightest galaxy from a random number between [-max_dx ; max_dx] arcsecond\n",
    "max_r = 2. #in arcseconds, limit to use for annulus shifting: galaxy is shifted in an annulus around the center of the image or of the brightest galaxy which has for minimum radius fwhm_lsst/2 and for maximum radius max_r"
   ]
  },
  {
   "cell_type": "code",
   "execution_count": null,
   "metadata": {},
   "outputs": [],
   "source": [
    "# Index to use\n",
    "used_idx = np.arange(5000)\n",
    "# Catalog path\n",
    "cosmos_cat_dir = '/sps/lsst/users/barcelin/COSMOS_25.2_training_sample'"
   ]
  },
  {
   "cell_type": "code",
   "execution_count": 43,
   "metadata": {},
   "outputs": [],
   "source": [
    "res = image_generator_real(cosmos_cat_dir, training_or_test, isolated_or_blended, used_idx, nmax_blend, max_try, mag_cut, method_shift_brightest, method_shift_others, max_dx, max_r, do_peak_detection, center_brightest, max_stamp_size)"
   ]
  },
  {
   "cell_type": "code",
   "execution_count": 44,
   "metadata": {},
   "outputs": [
    {
     "data": {
      "text/plain": [
       "{'redshift': 0.39469999074935913,\n",
       " 'moment_sigma': 2.776848793029785,\n",
       " 'e1': 0.2202572375535965,\n",
       " 'e2': -0.3323778510093689,\n",
       " 'mag': 24.77144442528282,\n",
       " 'closest_redshift': nan,\n",
       " 'closest_moment_sigma': nan,\n",
       " 'closest_e1': nan,\n",
       " 'closest_e2': nan,\n",
       " 'closest_mag': nan,\n",
       " 'blendedness_total_lsst': nan,\n",
       " 'blendedness_closest_lsst': nan,\n",
       " 'blendedness_aperture_lsst': nan,\n",
       " 'nb_blended_gal': 1,\n",
       " 'mag_ir': -2.1556051241733103,\n",
       " 'closest_mag_ir': nan,\n",
       " 'closest_x': nan,\n",
       " 'closest_y': nan,\n",
       " 'idx_closest_to_peak': 0,\n",
       " 'n_peak_detected': 1,\n",
       " 'SNR': 182.73140302187565,\n",
       " 'SNR_peak': 0.16289229219263207}"
      ]
     },
     "execution_count": 44,
     "metadata": {},
     "output_type": "execute_result"
    }
   ],
   "source": [
    "res[2]"
   ]
  },
  {
   "cell_type": "code",
   "execution_count": 45,
   "metadata": {},
   "outputs": [
    {
     "data": {
      "text/plain": [
       "<matplotlib.image.AxesImage at 0x7ff84dc6f630>"
      ]
     },
     "execution_count": 45,
     "metadata": {},
     "output_type": "execute_result"
    },
    {
     "data": {
      "image/png": "[encoded data removed]",
      "text/plain": [
       "<Figure size 720x360 with 2 Axes>"
      ]
     },
     "metadata": {
      "needs_background": "light"
     },
     "output_type": "display_data"
    }
   ],
   "source": [
    "fig, ax = plt.subplots(1,2, figsize =(10,5))\n",
    "ax[0].imshow(res[0][6])\n",
    "ax[1].imshow(res[1][6])"
   ]
  },
  {
   "cell_type": "markdown",
   "metadata": {},
   "source": [
    "## Generate image of blended galaxies"
   ]
  },
  {
   "cell_type": "code",
   "execution_count": 58,
   "metadata": {},
   "outputs": [],
   "source": [
    "case = 'centered' # centered/ miscentered_0.1/ miscentered_peak/ \n",
    "gal_type = 'real' #simulation or real/\n",
    "training_or_test = 'test' # training test validation\n",
    "isolated_or_blended = 'blended' #isolated blended\n",
    "method_shift = 'uniform' # noshift uniform uniform+betaprime\n",
    "do_peak_detection = False\n",
    "N_files = 1 # Nb of files to generate\n",
    "N_per_file = 1 # Number of galaxies per file\n",
    "nmax_blend = 6 # Maximum number of galaxies on an image\n",
    "assert training_or_test in ['training', 'validation', 'test']\n",
    "\n",
    "# Fixed parameters:\n",
    "max_try = 100 # maximum number of try before leaving the function (to avoir infinite loop)\n",
    "mag_cut = 26 # magnitude cut\n",
    "max_stamp_size = 64 # Size of patch to generate\n",
    "center_brightest = True # Center the brightest galaxy (i.e. the galaxy with the highest magnitude)\n",
    "# If center_brightest = False : choose with method to use to shift the brightest\n",
    "method_shift_brightest = 'uniform'\n",
    "# And then you need to choose the method to shift the other galaxies as a function of the position of the brightest on the image\n",
    "method_shift_others = 'annulus'\n",
    "max_dx = 3.2 #in arcseconds, limit to use for uniform shifting: the center of the shifted galaxy will be shifted from the center or from the brightest galaxy from a random number between [-max_dx ; max_dx] arcsecond\n",
    "max_r = 4. #in arcseconds, limit to use for annulus shifting: galaxy is shifted in an annulus around the center of the image or of the brightest galaxy which has for minimum radius fwhm_lsst/2 and for maximum radius max_r\n"
   ]
  },
  {
   "cell_type": "code",
   "execution_count": null,
   "metadata": {},
   "outputs": [],
   "source": [
    "# Index to use\n",
    "used_idx = np.arange(5000)\n",
    "# Catalog path\n",
    "cosmos_cat_dir = '/sps/lsst/users/barcelin/COSMOS_25.2_training_sample'"
   ]
  },
  {
   "cell_type": "code",
   "execution_count": 59,
   "metadata": {},
   "outputs": [],
   "source": [
    "res = image_generator_real(cosmos_cat_dir, training_or_test, isolated_or_blended, used_idx, nmax_blend, max_try, mag_cut, method_shift_brightest, method_shift_others, max_dx, max_r, do_peak_detection, center_brightest, max_stamp_size)"
   ]
  },
  {
   "cell_type": "code",
   "execution_count": 60,
   "metadata": {},
   "outputs": [
    {
     "data": {
      "text/plain": [
       "{'redshift': 0.8285999894142151,\n",
       " 'moment_sigma': 2.5135436058044434,\n",
       " 'e1': -0.17149588465690613,\n",
       " 'e2': 0.4382849335670471,\n",
       " 'mag': 25.216409793207852,\n",
       " 'closest_redshift': 0.7409999966621399,\n",
       " 'closest_moment_sigma': 2.9506070613861084,\n",
       " 'closest_e1': 0.5679100751876831,\n",
       " 'closest_e2': 0.34602266550064087,\n",
       " 'closest_mag': 25.78154244281794,\n",
       " 'blendedness_total_lsst': 0.2544552683830261,\n",
       " 'blendedness_closest_lsst': 0.58673656,\n",
       " 'blendedness_aperture_lsst': 0.18203656197374438,\n",
       " 'nb_blended_gal': 6,\n",
       " 'mag_ir': -2.609208987408018,\n",
       " 'closest_mag_ir': -2.2957383117683925,\n",
       " 'closest_x': 0.6020302155355421,\n",
       " 'closest_y': -0.31917722410537935,\n",
       " 'idx_closest_to_peak': 0,\n",
       " 'n_peak_detected': 1,\n",
       " 'SNR': 131.93934704093527,\n",
       " 'SNR_peak': 0.12497151095527541}"
      ]
     },
     "execution_count": 60,
     "metadata": {},
     "output_type": "execute_result"
    }
   ],
   "source": [
    "res[2]"
   ]
  },
  {
   "cell_type": "code",
   "execution_count": 61,
   "metadata": {},
   "outputs": [
    {
     "data": {
      "text/plain": [
       "<matplotlib.image.AxesImage at 0x7ff84d4b4b00>"
      ]
     },
     "execution_count": 61,
     "metadata": {},
     "output_type": "execute_result"
    },
    {
     "data": {
      "image/png": "[encoded data removed]",
      "text/plain": [
       "<Figure size 720x360 with 2 Axes>"
      ]
     },
     "metadata": {
      "needs_background": "light"
     },
     "output_type": "display_data"
    }
   ],
   "source": [
    "fig, ax = plt.subplots(1,2, figsize =(10,5))\n",
    "ax[0].imshow(res[0][6])\n",
    "ax[1].imshow(res[1][6])"
   ]
  },
  {
   "cell_type": "markdown",
   "metadata": {},
   "source": [
    "# Image generation of field"
   ]
  },
  {
   "cell_type": "markdown",
   "metadata": {},
   "source": [
    " 51.2 arcseconds of LSST (256x256 pixels, 256 x 0.2 = 51.2 - 0.2 arcsecond/pix is pixel size of LSST data), so shift in 51.2/2 = 25,6 arcseconds.\n",
    " \n",
    " On these field I add a random number between 1 and 128 galaxies so that, if we generate a lot of these, the mean is at 64 galaxies per patch (mean of galaxies density after 10 years of operation for LSST, https://arxiv.org/pdf/1911.02505.pdf, part 2.4 page 4)"
   ]
  },
  {
   "cell_type": "code",
   "execution_count": 3,
   "metadata": {},
   "outputs": [],
   "source": [
    "case = 'centered' # centered/ miscentered_0.1/ miscentered_peak/ \n",
    "gal_type = 'real' #simulation or real/\n",
    "training_or_test = 'test' # training test validation\n",
    "isolated_or_blended = 'blended' #isolated blended\n",
    "method_shift = 'uniform' # noshift uniform uniform+betaprime\n",
    "do_peak_detection = False\n",
    "N_files = 1 # Nb of files to generate\n",
    "N_per_file = 1 # Number of galaxies per file\n",
    "nmax_blend = 128 # Maximum number of galaxies on an image\n",
    "assert training_or_test in ['training', 'validation', 'test']\n",
    "\n",
    "# Fixed parameters:\n",
    "max_try = 100 # maximum number of try before leaving the function (to avoir infinite loop)\n",
    "mag_cut = 27.5 # magnitude cut\n",
    "max_stamp_size = 256 # Size of patch to generate\n",
    "center_brightest = False # Center the brightest galaxy (i.e. the galaxy with the highest magnitude)\n",
    "# If center_brightest = False : choose with method to use to shift the brightest\n",
    "method_shift_brightest = 'uniform'\n",
    "# And then you need to choose the method to shift the other galaxies as a function of the position of the brightest on the image\n",
    "method_shift_others = 'uniform'\n",
    "max_dx = 25.6 #in arcseconds, limit to use for uniform shifting: the center of the shifted galaxy will be shifted from the center or from the brightest galaxy from a random number between [-max_dx ; max_dx] arcsecond\n",
    "max_r = 4. #in arcseconds, limit to use for annulus shifting: galaxy is shifted in an annulus around the center of the image or of the brightest galaxy which has for minimum radius fwhm_lsst/2 and for maximum radius max_r"
   ]
  },
  {
   "cell_type": "code",
   "execution_count": null,
   "metadata": {},
   "outputs": [],
   "source": [
    "# Index to use\n",
    "used_idx = np.arange(5000)\n",
    "# Catalog path\n",
    "cosmos_cat_dir = '/sps/lsst/users/barcelin/COSMOS_25.2_training_sample'"
   ]
  },
  {
   "cell_type": "markdown",
   "metadata": {},
   "source": [
    "## With simulations"
   ]
  },
  {
   "cell_type": "code",
   "execution_count": null,
   "metadata": {
    "scrolled": false
   },
   "outputs": [],
   "source": [
    "res = image_generator_sim(cosmos_cat_dir, training_or_test, isolated_or_blended, used_idx, nmax_blend, max_try, mag_cut, method_shift_brightest, method_shift_others, max_dx, max_r, do_peak_detection, center_brightest, max_stamp_size)"
   ]
  },
  {
   "cell_type": "code",
   "execution_count": null,
   "metadata": {
    "scrolled": true
   },
   "outputs": [],
   "source": [
    "res[2]"
   ]
  },
  {
   "cell_type": "code",
   "execution_count": null,
   "metadata": {},
   "outputs": [],
   "source": [
    "print(str(res[2]['nb_blended_gal'])+' galaxies are added to this image.')"
   ]
  },
  {
   "cell_type": "markdown",
   "metadata": {},
   "source": [
    "Here res[0] is not very interesting to plot. It is just the first galaxy which was generated, not necessarily the brightest one, as we set the parameter center_brightest to False."
   ]
  },
  {
   "cell_type": "code",
   "execution_count": null,
   "metadata": {},
   "outputs": [],
   "source": [
    "fig, ax = plt.subplots(1,2, figsize =(20,10))\n",
    "ax[0].imshow(res[1][6])\n",
    "ax[1].imshow(res[1][6], vmax = 2000)"
   ]
  },
  {
   "cell_type": "markdown",
   "metadata": {},
   "source": [
    "Use the plot_rgb function of the plot module to show the image in RGB (IRG bands)"
   ]
  },
  {
   "cell_type": "code",
   "execution_count": null,
   "metadata": {},
   "outputs": [],
   "source": [
    "bands = [7,6,5] # Plot ugrizy\n",
    "\n",
    "fig = plt.figure(figsize = (10,10))\n",
    "\n",
    "plot.plot_rgb(res[1]/(np.max(res[1][4:])/10), bands = bands,ax= None, band_first = True,zoom = 1, clip = False)"
   ]
  },
  {
   "cell_type": "markdown",
   "metadata": {},
   "source": [
    "Put a cross on the center of each galaxy with the shift information generated when the image is created."
   ]
  },
  {
   "cell_type": "code",
   "execution_count": null,
   "metadata": {},
   "outputs": [],
   "source": [
    "bands = [7,6,5] # Plot ugrizy\n",
    "pixel_scale_lsst = 0.2 # arcsec/pix\n",
    "fig = plt.figure(figsize = (10,10))\n",
    "\n",
    "plot.plot_rgb(res[1]/(np.max(res[1][4:])/10), bands = bands,ax= None, band_first = True,zoom = 1, shifts = res[3]/pixel_scale_lsst, clip = False)"
   ]
  },
  {
   "cell_type": "markdown",
   "metadata": {},
   "source": [
    "## With real images"
   ]
  },
  {
   "cell_type": "code",
   "execution_count": 12,
   "metadata": {},
   "outputs": [
    {
     "ename": "TypeError",
     "evalue": "'module' object is not callable",
     "output_type": "error",
     "traceback": [
      "\u001b[0;31m\u001b[0m",
      "\u001b[0;31mTypeError\u001b[0mTraceback (most recent call last)",
      "\u001b[0;32m<ipython-input-12-cffd44cdf9d5>\u001b[0m in \u001b[0;36m<module>\u001b[0;34m\u001b[0m\n\u001b[0;32m----> 1\u001b[0;31m \u001b[0mreload\u001b[0m\u001b[0;34m(\u001b[0m\u001b[0mmodel\u001b[0m\u001b[0;34m)\u001b[0m\u001b[0;34m\u001b[0m\u001b[0;34m\u001b[0m\u001b[0m\n\u001b[0m",
      "\u001b[0;31mTypeError\u001b[0m: 'module' object is not callable"
     ]
    }
   ],
   "source": [
    "reload(model)"
   ]
  },
  {
   "cell_type": "code",
   "execution_count": 8,
   "metadata": {},
   "outputs": [
    {
     "name": "stdout",
     "output_type": "stream",
     "text": [
      "Error: adaptive moment failed\n",
      "\n",
      "Error: too many iterations in adaptive moments\n",
      "\n",
      "Error: adaptive moment failed\n",
      "\n"
     ]
    },
    {
     "ename": "KeyboardInterrupt",
     "evalue": "",
     "output_type": "error",
     "traceback": [
      "\u001b[0;31m\u001b[0m",
      "\u001b[0;31mKeyboardInterrupt\u001b[0mTraceback (most recent call last)",
      "\u001b[0;32m<ipython-input-8-4933d796fe70>\u001b[0m in \u001b[0;36m<module>\u001b[0;34m\u001b[0m\n\u001b[0;32m----> 1\u001b[0;31m \u001b[0mres\u001b[0m \u001b[0;34m=\u001b[0m \u001b[0mimage_generator_real\u001b[0m\u001b[0;34m(\u001b[0m\u001b[0mcosmos_cat_dir\u001b[0m\u001b[0;34m,\u001b[0m \u001b[0mtraining_or_test\u001b[0m\u001b[0;34m,\u001b[0m \u001b[0misolated_or_blended\u001b[0m\u001b[0;34m,\u001b[0m \u001b[0mused_idx\u001b[0m\u001b[0;34m,\u001b[0m \u001b[0mnmax_blend\u001b[0m\u001b[0;34m,\u001b[0m \u001b[0mmax_try\u001b[0m\u001b[0;34m,\u001b[0m \u001b[0mmag_cut\u001b[0m\u001b[0;34m,\u001b[0m \u001b[0mmethod_shift_brightest\u001b[0m\u001b[0;34m,\u001b[0m \u001b[0mmethod_shift_others\u001b[0m\u001b[0;34m,\u001b[0m \u001b[0mmax_dx\u001b[0m\u001b[0;34m,\u001b[0m \u001b[0mmax_r\u001b[0m\u001b[0;34m,\u001b[0m \u001b[0mdo_peak_detection\u001b[0m\u001b[0;34m,\u001b[0m \u001b[0mcenter_brightest\u001b[0m\u001b[0;34m)\u001b[0m\u001b[0;34m\u001b[0m\u001b[0;34m\u001b[0m\u001b[0m\n\u001b[0m",
      "\u001b[0;32m/pbs/throng/lsst/users/barcelin/image_generation_GalSim/scripts/Images_generation/images_generator.py\u001b[0m in \u001b[0;36mimage_generator_real\u001b[0;34m(cosmos_cat_dir, training_or_test, isolated_or_blended, used_idx, nmax_blend, max_try, mag_cut, method_first_shift, method_others_shift, max_dx, max_r, do_peak_detection, center_brightest, max_stamp_size)\u001b[0m\n\u001b[1;32m    336\u001b[0m             \u001b[0;32mfor\u001b[0m \u001b[0mi\u001b[0m\u001b[0;34m,\u001b[0m \u001b[0mfilter_name\u001b[0m \u001b[0;32min\u001b[0m \u001b[0menumerate\u001b[0m\u001b[0;34m(\u001b[0m\u001b[0mfilter_names_all\u001b[0m\u001b[0;34m)\u001b[0m\u001b[0;34m:\u001b[0m\u001b[0;34m\u001b[0m\u001b[0;34m\u001b[0m\u001b[0m\n\u001b[1;32m    337\u001b[0m                 \u001b[0mgalaxies_psf\u001b[0m \u001b[0;34m=\u001b[0m \u001b[0;34m[\u001b[0m\u001b[0mgalsim\u001b[0m\u001b[0;34m.\u001b[0m\u001b[0mConvolve\u001b[0m\u001b[0;34m(\u001b[0m\u001b[0;34m[\u001b[0m\u001b[0mgal\u001b[0m\u001b[0;34m*\u001b[0m\u001b[0mcoeff_exp\u001b[0m\u001b[0;34m[\u001b[0m\u001b[0mi\u001b[0m\u001b[0;34m]\u001b[0m\u001b[0;34m,\u001b[0m \u001b[0mPSF\u001b[0m\u001b[0;34m[\u001b[0m\u001b[0mi\u001b[0m\u001b[0;34m]\u001b[0m\u001b[0;34m]\u001b[0m\u001b[0;34m)\u001b[0m \u001b[0;32mfor\u001b[0m \u001b[0mgal\u001b[0m \u001b[0;32min\u001b[0m \u001b[0mgalaxies\u001b[0m\u001b[0;34m]\u001b[0m\u001b[0;34m\u001b[0m\u001b[0;34m\u001b[0m\u001b[0m\n\u001b[0;32m--> 338\u001b[0;31m                 \u001b[0mimages\u001b[0m\u001b[0;34m,\u001b[0m \u001b[0mblend_img\u001b[0m \u001b[0;34m=\u001b[0m \u001b[0mdraw_images\u001b[0m\u001b[0;34m(\u001b[0m\u001b[0mgalaxies_psf\u001b[0m\u001b[0;34m,\u001b[0m \u001b[0mi\u001b[0m\u001b[0;34m,\u001b[0m \u001b[0mmax_stamp_size\u001b[0m\u001b[0;34m,\u001b[0m \u001b[0mfilter_name\u001b[0m\u001b[0;34m,\u001b[0m \u001b[0msky_level_pixel\u001b[0m\u001b[0;34m[\u001b[0m\u001b[0mi\u001b[0m\u001b[0;34m]\u001b[0m\u001b[0;34m)\u001b[0m\u001b[0;34m\u001b[0m\u001b[0;34m\u001b[0m\u001b[0m\n\u001b[0m\u001b[1;32m    339\u001b[0m                 \u001b[0;32mif\u001b[0m \u001b[0misolated_or_blended\u001b[0m \u001b[0;34m==\u001b[0m \u001b[0;34m'isolated'\u001b[0m \u001b[0;32mor\u001b[0m \u001b[0;32mnot\u001b[0m \u001b[0mdo_peak_detection\u001b[0m\u001b[0;34m:\u001b[0m\u001b[0;34m\u001b[0m\u001b[0;34m\u001b[0m\u001b[0m\n\u001b[1;32m    340\u001b[0m                     \u001b[0midx_closest_to_peak\u001b[0m \u001b[0;34m=\u001b[0m \u001b[0;36m0\u001b[0m\u001b[0;34m\u001b[0m\u001b[0;34m\u001b[0m\u001b[0m\n",
      "\u001b[0;32m/pbs/throng/lsst/users/barcelin/image_generation_GalSim/scripts/Images_generation/images_utils.py\u001b[0m in \u001b[0;36mdraw_images\u001b[0;34m(galaxies_psf, band, img_size, filter_name, sky_level_pixel, real_or_param)\u001b[0m\n\u001b[1;32m    169\u001b[0m         \u001b[0;31m# Parametric image\u001b[0m\u001b[0;34m\u001b[0m\u001b[0;34m\u001b[0m\u001b[0;34m\u001b[0m\u001b[0m\n\u001b[1;32m    170\u001b[0m         \u001b[0;32mif\u001b[0m \u001b[0mreal_or_param\u001b[0m \u001b[0;34m==\u001b[0m \u001b[0;34m'param'\u001b[0m\u001b[0;34m:\u001b[0m\u001b[0;34m\u001b[0m\u001b[0;34m\u001b[0m\u001b[0m\n\u001b[0;32m--> 171\u001b[0;31m             \u001b[0mgal\u001b[0m\u001b[0;34m.\u001b[0m\u001b[0mdrawImage\u001b[0m\u001b[0;34m(\u001b[0m\u001b[0mfilters\u001b[0m\u001b[0;34m[\u001b[0m\u001b[0mfilter_name\u001b[0m\u001b[0;34m]\u001b[0m\u001b[0;34m,\u001b[0m \u001b[0mimage\u001b[0m\u001b[0;34m=\u001b[0m\u001b[0mtemp_img\u001b[0m\u001b[0;34m)\u001b[0m\u001b[0;34m\u001b[0m\u001b[0;34m\u001b[0m\u001b[0m\n\u001b[0m\u001b[1;32m    172\u001b[0m         \u001b[0;31m# Real image\u001b[0m\u001b[0;34m\u001b[0m\u001b[0;34m\u001b[0m\u001b[0;34m\u001b[0m\u001b[0m\n\u001b[1;32m    173\u001b[0m         \u001b[0;32melif\u001b[0m \u001b[0mreal_or_param\u001b[0m \u001b[0;34m==\u001b[0m \u001b[0;34m\"real\"\u001b[0m\u001b[0;34m:\u001b[0m\u001b[0;34m\u001b[0m\u001b[0;34m\u001b[0m\u001b[0m\n",
      "\u001b[0;32m/sps/lsst/users/barcelin/miniconda/envs/python_cpu4/lib/python3.6/site-packages/galsim/chromatic.py\u001b[0m in \u001b[0;36mdrawImage\u001b[0;34m(self, bandpass, image, integrator, iimult, **kwargs)\u001b[0m\n\u001b[1;32m   2190\u001b[0m         \u001b[0;31m# `ChromaticObject.drawImage()` can just as efficiently handle separable cases.\u001b[0m\u001b[0;34m\u001b[0m\u001b[0;34m\u001b[0m\u001b[0;34m\u001b[0m\u001b[0m\n\u001b[1;32m   2191\u001b[0m         \u001b[0;32mif\u001b[0m \u001b[0mself\u001b[0m\u001b[0;34m.\u001b[0m\u001b[0mseparable\u001b[0m\u001b[0;34m:\u001b[0m\u001b[0;34m\u001b[0m\u001b[0;34m\u001b[0m\u001b[0m\n\u001b[0;32m-> 2192\u001b[0;31m             \u001b[0mimage\u001b[0m \u001b[0;34m=\u001b[0m \u001b[0mChromaticObject\u001b[0m\u001b[0;34m.\u001b[0m\u001b[0mdrawImage\u001b[0m\u001b[0;34m(\u001b[0m\u001b[0mself\u001b[0m\u001b[0;34m,\u001b[0m \u001b[0mbandpass\u001b[0m\u001b[0;34m,\u001b[0m \u001b[0mimage\u001b[0m\u001b[0;34m=\u001b[0m\u001b[0mimage\u001b[0m\u001b[0;34m,\u001b[0m \u001b[0;34m**\u001b[0m\u001b[0mkwargs\u001b[0m\u001b[0;34m)\u001b[0m\u001b[0;34m\u001b[0m\u001b[0;34m\u001b[0m\u001b[0m\n\u001b[0m\u001b[1;32m   2193\u001b[0m             \u001b[0mself\u001b[0m\u001b[0;34m.\u001b[0m\u001b[0m_last_wcs\u001b[0m \u001b[0;34m=\u001b[0m \u001b[0mimage\u001b[0m\u001b[0;34m.\u001b[0m\u001b[0mwcs\u001b[0m\u001b[0;34m\u001b[0m\u001b[0;34m\u001b[0m\u001b[0m\n\u001b[1;32m   2194\u001b[0m             \u001b[0;32mreturn\u001b[0m \u001b[0mimage\u001b[0m\u001b[0;34m\u001b[0m\u001b[0;34m\u001b[0m\u001b[0m\n",
      "\u001b[0;32m/sps/lsst/users/barcelin/miniconda/envs/python_cpu4/lib/python3.6/site-packages/galsim/chromatic.py\u001b[0m in \u001b[0;36mdrawImage\u001b[0;34m(self, bandpass, image, integrator, **kwargs)\u001b[0m\n\u001b[1;32m    429\u001b[0m             \u001b[0mmultiplier\u001b[0m \u001b[0;34m=\u001b[0m \u001b[0mChromaticObject\u001b[0m\u001b[0;34m.\u001b[0m\u001b[0m_multiplier_cache\u001b[0m\u001b[0;34m(\u001b[0m\u001b[0mself\u001b[0m\u001b[0;34m.\u001b[0m\u001b[0mSED\u001b[0m\u001b[0;34m,\u001b[0m \u001b[0mbandpass\u001b[0m\u001b[0;34m,\u001b[0m \u001b[0mtuple\u001b[0m\u001b[0;34m(\u001b[0m\u001b[0mwave_list\u001b[0m\u001b[0;34m)\u001b[0m\u001b[0;34m)\u001b[0m\u001b[0;34m\u001b[0m\u001b[0;34m\u001b[0m\u001b[0m\n\u001b[1;32m    430\u001b[0m             \u001b[0mprof0\u001b[0m \u001b[0;34m*=\u001b[0m \u001b[0mmultiplier\u001b[0m\u001b[0;34m/\u001b[0m\u001b[0mself\u001b[0m\u001b[0;34m.\u001b[0m\u001b[0mSED\u001b[0m\u001b[0;34m(\u001b[0m\u001b[0mwave0\u001b[0m\u001b[0;34m)\u001b[0m\u001b[0;34m\u001b[0m\u001b[0;34m\u001b[0m\u001b[0m\n\u001b[0;32m--> 431\u001b[0;31m             \u001b[0mimage\u001b[0m \u001b[0;34m=\u001b[0m \u001b[0mprof0\u001b[0m\u001b[0;34m.\u001b[0m\u001b[0mdrawImage\u001b[0m\u001b[0;34m(\u001b[0m\u001b[0mimage\u001b[0m\u001b[0;34m=\u001b[0m\u001b[0mimage\u001b[0m\u001b[0;34m,\u001b[0m \u001b[0;34m**\u001b[0m\u001b[0mkwargs\u001b[0m\u001b[0;34m)\u001b[0m\u001b[0;34m\u001b[0m\u001b[0;34m\u001b[0m\u001b[0m\n\u001b[0m\u001b[1;32m    432\u001b[0m             \u001b[0;32mreturn\u001b[0m \u001b[0mimage\u001b[0m\u001b[0;34m\u001b[0m\u001b[0;34m\u001b[0m\u001b[0m\n\u001b[1;32m    433\u001b[0m \u001b[0;34m\u001b[0m\u001b[0m\n",
      "\u001b[0;32m/sps/lsst/users/barcelin/miniconda/envs/python_cpu4/lib/python3.6/site-packages/galsim/gsobject.py\u001b[0m in \u001b[0;36mdrawImage\u001b[0;34m(self, image, nx, ny, bounds, scale, wcs, dtype, method, area, exptime, gain, add_to_image, use_true_center, offset, n_photons, rng, max_extra_noise, poisson_flux, sensor, surface_ops, n_subsample, maxN, save_photons, setup_only)\u001b[0m\n\u001b[1;32m   1677\u001b[0m                 \u001b[0madded_photons\u001b[0m \u001b[0;34m=\u001b[0m \u001b[0mprof\u001b[0m\u001b[0;34m.\u001b[0m\u001b[0mdrawReal\u001b[0m\u001b[0;34m(\u001b[0m\u001b[0mdraw_image\u001b[0m\u001b[0;34m,\u001b[0m \u001b[0madd\u001b[0m\u001b[0;34m)\u001b[0m\u001b[0;34m\u001b[0m\u001b[0;34m\u001b[0m\u001b[0m\n\u001b[1;32m   1678\u001b[0m             \u001b[0;32melse\u001b[0m\u001b[0;34m:\u001b[0m\u001b[0;34m\u001b[0m\u001b[0;34m\u001b[0m\u001b[0m\n\u001b[0;32m-> 1679\u001b[0;31m                 \u001b[0madded_photons\u001b[0m \u001b[0;34m=\u001b[0m \u001b[0mprof\u001b[0m\u001b[0;34m.\u001b[0m\u001b[0mdrawFFT\u001b[0m\u001b[0;34m(\u001b[0m\u001b[0mdraw_image\u001b[0m\u001b[0;34m,\u001b[0m \u001b[0madd\u001b[0m\u001b[0;34m)\u001b[0m\u001b[0;34m\u001b[0m\u001b[0;34m\u001b[0m\u001b[0m\n\u001b[0m\u001b[1;32m   1680\u001b[0m \u001b[0;34m\u001b[0m\u001b[0m\n\u001b[1;32m   1681\u001b[0m             \u001b[0;32mif\u001b[0m \u001b[0msensor\u001b[0m \u001b[0;32mis\u001b[0m \u001b[0;32mnot\u001b[0m \u001b[0;32mNone\u001b[0m\u001b[0;34m:\u001b[0m\u001b[0;34m\u001b[0m\u001b[0;34m\u001b[0m\u001b[0m\n",
      "\u001b[0;32m/sps/lsst/users/barcelin/miniconda/envs/python_cpu4/lib/python3.6/site-packages/galsim/gsobject.py\u001b[0m in \u001b[0;36mdrawFFT\u001b[0;34m(self, image, add_to_image)\u001b[0m\n\u001b[1;32m   1889\u001b[0m         \u001b[0mkimage\u001b[0m\u001b[0;34m,\u001b[0m \u001b[0mwrap_size\u001b[0m \u001b[0;34m=\u001b[0m \u001b[0mself\u001b[0m\u001b[0;34m.\u001b[0m\u001b[0mdrawFFT_makeKImage\u001b[0m\u001b[0;34m(\u001b[0m\u001b[0mimage\u001b[0m\u001b[0;34m)\u001b[0m\u001b[0;34m\u001b[0m\u001b[0;34m\u001b[0m\u001b[0m\n\u001b[1;32m   1890\u001b[0m         \u001b[0mself\u001b[0m\u001b[0;34m.\u001b[0m\u001b[0m_drawKImage\u001b[0m\u001b[0;34m(\u001b[0m\u001b[0mkimage\u001b[0m\u001b[0;34m)\u001b[0m\u001b[0;34m\u001b[0m\u001b[0;34m\u001b[0m\u001b[0m\n\u001b[0;32m-> 1891\u001b[0;31m         \u001b[0;32mreturn\u001b[0m \u001b[0mself\u001b[0m\u001b[0;34m.\u001b[0m\u001b[0mdrawFFT_finish\u001b[0m\u001b[0;34m(\u001b[0m\u001b[0mimage\u001b[0m\u001b[0;34m,\u001b[0m \u001b[0mkimage\u001b[0m\u001b[0;34m,\u001b[0m \u001b[0mwrap_size\u001b[0m\u001b[0;34m,\u001b[0m \u001b[0madd_to_image\u001b[0m\u001b[0;34m)\u001b[0m\u001b[0;34m\u001b[0m\u001b[0;34m\u001b[0m\u001b[0m\n\u001b[0m\u001b[1;32m   1892\u001b[0m \u001b[0;34m\u001b[0m\u001b[0m\n\u001b[1;32m   1893\u001b[0m     \u001b[0;32mdef\u001b[0m \u001b[0m_calculate_nphotons\u001b[0m\u001b[0;34m(\u001b[0m\u001b[0mself\u001b[0m\u001b[0;34m,\u001b[0m \u001b[0mn_photons\u001b[0m\u001b[0;34m,\u001b[0m \u001b[0mpoisson_flux\u001b[0m\u001b[0;34m,\u001b[0m \u001b[0mmax_extra_noise\u001b[0m\u001b[0;34m,\u001b[0m \u001b[0mrng\u001b[0m\u001b[0;34m)\u001b[0m\u001b[0;34m:\u001b[0m\u001b[0;34m\u001b[0m\u001b[0;34m\u001b[0m\u001b[0m\n",
      "\u001b[0;32m/sps/lsst/users/barcelin/miniconda/envs/python_cpu4/lib/python3.6/site-packages/galsim/gsobject.py\u001b[0m in \u001b[0;36mdrawFFT_finish\u001b[0;34m(self, image, kimage, wrap_size, add_to_image)\u001b[0m\n\u001b[1;32m   1843\u001b[0m         \u001b[0;31m# N/2 column and N/2 row.\u001b[0m\u001b[0;34m\u001b[0m\u001b[0;34m\u001b[0m\u001b[0;34m\u001b[0m\u001b[0m\n\u001b[1;32m   1844\u001b[0m         \u001b[0mbwrap\u001b[0m \u001b[0;34m=\u001b[0m \u001b[0m_BoundsI\u001b[0m\u001b[0;34m(\u001b[0m\u001b[0;36m0\u001b[0m\u001b[0;34m,\u001b[0m \u001b[0mwrap_size\u001b[0m\u001b[0;34m//\u001b[0m\u001b[0;36m2\u001b[0m\u001b[0;34m,\u001b[0m \u001b[0;34m-\u001b[0m\u001b[0mwrap_size\u001b[0m\u001b[0;34m//\u001b[0m\u001b[0;36m2\u001b[0m\u001b[0;34m,\u001b[0m \u001b[0mwrap_size\u001b[0m\u001b[0;34m//\u001b[0m\u001b[0;36m2\u001b[0m\u001b[0;34m-\u001b[0m\u001b[0;36m1\u001b[0m\u001b[0;34m)\u001b[0m\u001b[0;34m\u001b[0m\u001b[0;34m\u001b[0m\u001b[0m\n\u001b[0;32m-> 1845\u001b[0;31m         \u001b[0mkimage_wrap\u001b[0m \u001b[0;34m=\u001b[0m \u001b[0mkimage\u001b[0m\u001b[0;34m.\u001b[0m\u001b[0m_wrap\u001b[0m\u001b[0;34m(\u001b[0m\u001b[0mbwrap\u001b[0m\u001b[0;34m,\u001b[0m \u001b[0;32mTrue\u001b[0m\u001b[0;34m,\u001b[0m \u001b[0;32mFalse\u001b[0m\u001b[0;34m)\u001b[0m\u001b[0;34m\u001b[0m\u001b[0;34m\u001b[0m\u001b[0m\n\u001b[0m\u001b[1;32m   1846\u001b[0m \u001b[0;34m\u001b[0m\u001b[0m\n\u001b[1;32m   1847\u001b[0m         \u001b[0;31m# Perform the fourier transform.\u001b[0m\u001b[0;34m\u001b[0m\u001b[0;34m\u001b[0m\u001b[0;34m\u001b[0m\u001b[0m\n",
      "\u001b[0;32m/sps/lsst/users/barcelin/miniconda/envs/python_cpu4/lib/python3.6/site-packages/galsim/image.py\u001b[0m in \u001b[0;36m_wrap\u001b[0;34m(self, bounds, hermx, hermy)\u001b[0m\n\u001b[1;32m    751\u001b[0m         \u001b[0mret\u001b[0m \u001b[0;34m=\u001b[0m \u001b[0mself\u001b[0m\u001b[0;34m.\u001b[0m\u001b[0msubImage\u001b[0m\u001b[0;34m(\u001b[0m\u001b[0mbounds\u001b[0m\u001b[0;34m)\u001b[0m\u001b[0;34m\u001b[0m\u001b[0;34m\u001b[0m\u001b[0m\n\u001b[1;32m    752\u001b[0m         \u001b[0;32mwith\u001b[0m \u001b[0mconvert_cpp_errors\u001b[0m\u001b[0;34m(\u001b[0m\u001b[0;34m)\u001b[0m\u001b[0;34m:\u001b[0m\u001b[0;34m\u001b[0m\u001b[0;34m\u001b[0m\u001b[0m\n\u001b[0;32m--> 753\u001b[0;31m             \u001b[0m_galsim\u001b[0m\u001b[0;34m.\u001b[0m\u001b[0mwrapImage\u001b[0m\u001b[0;34m(\u001b[0m\u001b[0mself\u001b[0m\u001b[0;34m.\u001b[0m\u001b[0m_image\u001b[0m\u001b[0;34m,\u001b[0m \u001b[0mbounds\u001b[0m\u001b[0;34m.\u001b[0m\u001b[0m_b\u001b[0m\u001b[0;34m,\u001b[0m \u001b[0mhermx\u001b[0m\u001b[0;34m,\u001b[0m \u001b[0mhermy\u001b[0m\u001b[0;34m)\u001b[0m\u001b[0;34m\u001b[0m\u001b[0;34m\u001b[0m\u001b[0m\n\u001b[0m\u001b[1;32m    754\u001b[0m         \u001b[0;32mreturn\u001b[0m \u001b[0mret\u001b[0m\u001b[0;34m\u001b[0m\u001b[0;34m\u001b[0m\u001b[0m\n\u001b[1;32m    755\u001b[0m \u001b[0;34m\u001b[0m\u001b[0m\n",
      "\u001b[0;31mKeyboardInterrupt\u001b[0m: "
     ]
    }
   ],
   "source": [
    "res = image_generator_real(cosmos_cat_dir, training_or_test, isolated_or_blended, used_idx, nmax_blend, max_try, mag_cut, method_shift_brightest, method_shift_others, max_dx, max_r, do_peak_detection, center_brightest)"
   ]
  },
  {
   "cell_type": "code",
   "execution_count": null,
   "metadata": {},
   "outputs": [],
   "source": [
    "res[2]"
   ]
  },
  {
   "cell_type": "code",
   "execution_count": null,
   "metadata": {},
   "outputs": [],
   "source": [
    "fig, ax = plt.subplots(1,2, figsize =(10,5))\n",
    "ax[0].imshow(res[0][6])\n",
    "ax[1].imshow(res[1][6])"
   ]
  },
  {
   "cell_type": "code",
   "execution_count": null,
   "metadata": {},
   "outputs": [],
   "source": []
  }
 ],
 "metadata": {
  "kernelspec": {
   "display_name": "Python 3",
   "language": "python",
   "name": "python3"
  },
  "language_info": {
   "codemirror_mode": {
    "name": "ipython",
    "version": 3
   },
   "file_extension": ".py",
   "mimetype": "text/x-python",
   "name": "python",
   "nbconvert_exporter": "python",
   "pygments_lexer": "ipython3",
   "version": "3.6.8"
  },
  "toc": {
   "base_numbering": 1,
   "nav_menu": {},
   "number_sections": true,
   "sideBar": true,
   "skip_h1_title": false,
   "title_cell": "Table of Contents",
   "title_sidebar": "Contents",
   "toc_cell": false,
   "toc_position": {
    "height": "calc(100% - 180px)",
    "left": "10px",
    "top": "150px",
    "width": "288px"
   },
   "toc_section_display": true,
   "toc_window_display": true
  }
 },
 "nbformat": 4,
 "nbformat_minor": 2
}
